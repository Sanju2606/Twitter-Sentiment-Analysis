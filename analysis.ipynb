{
 "cells": [
  {
   "cell_type": "code",
   "execution_count": 9,
   "id": "346fc5a3",
   "metadata": {},
   "outputs": [],
   "source": [
    "import pandas as pd\n",
    "import numpy as np\n",
    "import seaborn as sns\n",
    "import matplotlib.pyplot as plt"
   ]
  },
  {
   "cell_type": "code",
   "execution_count": 10,
   "id": "a47a5695",
   "metadata": {},
   "outputs": [],
   "source": [
    "df=pd.read_csv(\"Book1.csv\",encoding= 'unicode_escape')"
   ]
  },
  {
   "cell_type": "code",
   "execution_count": 11,
   "id": "bd260099",
   "metadata": {},
   "outputs": [],
   "source": [
    "df.rename(columns={\"Column1\":\"class\",\"Column2\":\"words\"},inplace=True)"
   ]
  },
  {
   "cell_type": "code",
   "execution_count": 12,
   "id": "4933dd84",
   "metadata": {},
   "outputs": [
    {
     "name": "stderr",
     "output_type": "stream",
     "text": [
      "C:\\Users\\Dell\\AppData\\Local\\Temp\\ipykernel_12316\\2703329397.py:1: FutureWarning: The default value of regex will change from True to False in a future version.\n",
      "  df[\"words\"]=df[\"words\"].str.replace(\"[!\\$%&\\'()*+,\\-.\\/:;=#@?\\[\\\\\\]^_`{|}~]*\",'')\n"
     ]
    }
   ],
   "source": [
    "df[\"words\"]=df[\"words\"].str.replace(\"[!\\$%&\\'()*+,\\-.\\/:;=#@?\\[\\\\\\]^_`{|}~]*\",'')"
   ]
  },
  {
   "cell_type": "code",
   "execution_count": 13,
   "id": "b8124419",
   "metadata": {},
   "outputs": [
    {
     "data": {
      "text/html": [
       "<div>\n",
       "<style scoped>\n",
       "    .dataframe tbody tr th:only-of-type {\n",
       "        vertical-align: middle;\n",
       "    }\n",
       "\n",
       "    .dataframe tbody tr th {\n",
       "        vertical-align: top;\n",
       "    }\n",
       "\n",
       "    .dataframe thead th {\n",
       "        text-align: right;\n",
       "    }\n",
       "</style>\n",
       "<table border=\"1\" class=\"dataframe\">\n",
       "  <thead>\n",
       "    <tr style=\"text-align: right;\">\n",
       "      <th></th>\n",
       "      <th>class</th>\n",
       "      <th>words</th>\n",
       "    </tr>\n",
       "  </thead>\n",
       "  <tbody>\n",
       "    <tr>\n",
       "      <th>0</th>\n",
       "      <td>figurative</td>\n",
       "      <td>aware</td>\n",
       "    </tr>\n",
       "    <tr>\n",
       "      <th>1</th>\n",
       "      <td>figurative</td>\n",
       "      <td>dirty</td>\n",
       "    </tr>\n",
       "    <tr>\n",
       "      <th>2</th>\n",
       "      <td>figurative</td>\n",
       "      <td>step</td>\n",
       "    </tr>\n",
       "    <tr>\n",
       "      <th>3</th>\n",
       "      <td>figurative</td>\n",
       "      <td>get</td>\n",
       "    </tr>\n",
       "    <tr>\n",
       "      <th>4</th>\n",
       "      <td>figurative</td>\n",
       "      <td>money</td>\n",
       "    </tr>\n",
       "    <tr>\n",
       "      <th>...</th>\n",
       "      <td>...</td>\n",
       "      <td>...</td>\n",
       "    </tr>\n",
       "    <tr>\n",
       "      <th>776197</th>\n",
       "      <td>sarcasm</td>\n",
       "      <td>wont</td>\n",
       "    </tr>\n",
       "    <tr>\n",
       "      <th>776198</th>\n",
       "      <td>sarcasm</td>\n",
       "      <td>believe</td>\n",
       "    </tr>\n",
       "    <tr>\n",
       "      <th>776199</th>\n",
       "      <td>sarcasm</td>\n",
       "      <td>see</td>\n",
       "    </tr>\n",
       "    <tr>\n",
       "      <th>776200</th>\n",
       "      <td>sarcasm</td>\n",
       "      <td>p</td>\n",
       "    </tr>\n",
       "    <tr>\n",
       "      <th>776201</th>\n",
       "      <td>sarcasm</td>\n",
       "      <td>sarcasm</td>\n",
       "    </tr>\n",
       "  </tbody>\n",
       "</table>\n",
       "<p>776202 rows × 2 columns</p>\n",
       "</div>"
      ],
      "text/plain": [
       "             class    words\n",
       "0       figurative    aware\n",
       "1       figurative    dirty\n",
       "2       figurative     step\n",
       "3       figurative      get\n",
       "4       figurative    money\n",
       "...            ...      ...\n",
       "776197     sarcasm     wont\n",
       "776198     sarcasm  believe\n",
       "776199     sarcasm      see\n",
       "776200     sarcasm        p\n",
       "776201     sarcasm  sarcasm\n",
       "\n",
       "[776202 rows x 2 columns]"
      ]
     },
     "execution_count": 13,
     "metadata": {},
     "output_type": "execute_result"
    }
   ],
   "source": [
    "df"
   ]
  },
  {
   "cell_type": "code",
   "execution_count": 14,
   "id": "dcb01fa0",
   "metadata": {},
   "outputs": [
    {
     "data": {
      "text/plain": [
       "irony         207635\n",
       "figurative    202345\n",
       "sarcasm       188639\n",
       "regular       177583\n",
       "Name: class, dtype: int64"
      ]
     },
     "execution_count": 14,
     "metadata": {},
     "output_type": "execute_result"
    }
   ],
   "source": [
    "df[\"class\"].value_counts()"
   ]
  },
  {
   "cell_type": "code",
   "execution_count": 15,
   "id": "ef38c355",
   "metadata": {},
   "outputs": [],
   "source": [
    "column=[[\"Count\"]]"
   ]
  },
  {
   "cell_type": "markdown",
   "id": "f4499963",
   "metadata": {},
   "source": [
    "# Figurative class"
   ]
  },
  {
   "cell_type": "code",
   "execution_count": 16,
   "id": "72b0a147",
   "metadata": {},
   "outputs": [],
   "source": [
    "df_fig=pd.DataFrame(df[df[\"class\"]==\"figurative\"].value_counts(),columns=column)"
   ]
  },
  {
   "cell_type": "code",
   "execution_count": 17,
   "id": "f2b2386d",
   "metadata": {},
   "outputs": [],
   "source": [
    "df_fig=df_fig.reset_index()"
   ]
  },
  {
   "cell_type": "code",
   "execution_count": 18,
   "id": "fc6ac96c",
   "metadata": {},
   "outputs": [
    {
     "data": {
      "text/plain": [
       "MultiIndex([('class',),\n",
       "            ('words',),\n",
       "            ('Count',)],\n",
       "           )"
      ]
     },
     "execution_count": 18,
     "metadata": {},
     "output_type": "execute_result"
    }
   ],
   "source": [
    "df_fig.columns"
   ]
  },
  {
   "cell_type": "code",
   "execution_count": 19,
   "id": "ad8f9351",
   "metadata": {},
   "outputs": [
    {
     "data": {
      "text/html": [
       "<div>\n",
       "<style scoped>\n",
       "    .dataframe tbody tr th:only-of-type {\n",
       "        vertical-align: middle;\n",
       "    }\n",
       "\n",
       "    .dataframe tbody tr th {\n",
       "        vertical-align: top;\n",
       "    }\n",
       "\n",
       "    .dataframe thead tr th {\n",
       "        text-align: left;\n",
       "    }\n",
       "</style>\n",
       "<table border=\"1\" class=\"dataframe\">\n",
       "  <thead>\n",
       "    <tr>\n",
       "      <th></th>\n",
       "      <th>class</th>\n",
       "      <th>words</th>\n",
       "      <th>Count</th>\n",
       "    </tr>\n",
       "  </thead>\n",
       "  <tbody>\n",
       "    <tr>\n",
       "      <th>0</th>\n",
       "      <td>figurative</td>\n",
       "      <td>sarcasm</td>\n",
       "      <td>10215</td>\n",
       "    </tr>\n",
       "    <tr>\n",
       "      <th>1</th>\n",
       "      <td>figurative</td>\n",
       "      <td>irony</td>\n",
       "      <td>7981</td>\n",
       "    </tr>\n",
       "    <tr>\n",
       "      <th>2</th>\n",
       "      <td>figurative</td>\n",
       "      <td>ironic</td>\n",
       "      <td>2904</td>\n",
       "    </tr>\n",
       "    <tr>\n",
       "      <th>3</th>\n",
       "      <td>figurative</td>\n",
       "      <td>im</td>\n",
       "      <td>1075</td>\n",
       "    </tr>\n",
       "    <tr>\n",
       "      <th>4</th>\n",
       "      <td>figurative</td>\n",
       "      <td>like</td>\n",
       "      <td>999</td>\n",
       "    </tr>\n",
       "    <tr>\n",
       "      <th>...</th>\n",
       "      <td>...</td>\n",
       "      <td>...</td>\n",
       "      <td>...</td>\n",
       "    </tr>\n",
       "    <tr>\n",
       "      <th>37268</th>\n",
       "      <td>figurative</td>\n",
       "      <td>ilanaabby</td>\n",
       "      <td>1</td>\n",
       "    </tr>\n",
       "    <tr>\n",
       "      <th>37269</th>\n",
       "      <td>figurative</td>\n",
       "      <td>il</td>\n",
       "      <td>1</td>\n",
       "    </tr>\n",
       "    <tr>\n",
       "      <th>37270</th>\n",
       "      <td>figurative</td>\n",
       "      <td>ikwydls</td>\n",
       "      <td>1</td>\n",
       "    </tr>\n",
       "    <tr>\n",
       "      <th>37271</th>\n",
       "      <td>figurative</td>\n",
       "      <td>iknowwhoyouare</td>\n",
       "      <td>1</td>\n",
       "    </tr>\n",
       "    <tr>\n",
       "      <th>37272</th>\n",
       "      <td>figurative</td>\n",
       "      <td>«?«?«?«?«?«?</td>\n",
       "      <td>1</td>\n",
       "    </tr>\n",
       "  </tbody>\n",
       "</table>\n",
       "<p>37273 rows × 3 columns</p>\n",
       "</div>"
      ],
      "text/plain": [
       "            class               words  Count\n",
       "0      figurative             sarcasm  10215\n",
       "1      figurative               irony   7981\n",
       "2      figurative              ironic   2904\n",
       "3      figurative                  im   1075\n",
       "4      figurative                like    999\n",
       "...           ...                 ...    ...\n",
       "37268  figurative           ilanaabby      1\n",
       "37269  figurative                  il      1\n",
       "37270  figurative             ikwydls      1\n",
       "37271  figurative      iknowwhoyouare      1\n",
       "37272  figurative  «?«?«?«?«?«?      1\n",
       "\n",
       "[37273 rows x 3 columns]"
      ]
     },
     "execution_count": 19,
     "metadata": {},
     "output_type": "execute_result"
    }
   ],
   "source": [
    "df_fig"
   ]
  },
  {
   "cell_type": "code",
   "execution_count": 20,
   "id": "99c63c87",
   "metadata": {},
   "outputs": [],
   "source": [
    "df_fig.rename(columns={\"words\":\"figurative_word\",\"Count\":\"figurative_count\"},inplace=True)"
   ]
  },
  {
   "cell_type": "code",
   "execution_count": 21,
   "id": "5fe21d57",
   "metadata": {},
   "outputs": [
    {
     "data": {
      "text/html": [
       "<div>\n",
       "<style scoped>\n",
       "    .dataframe tbody tr th:only-of-type {\n",
       "        vertical-align: middle;\n",
       "    }\n",
       "\n",
       "    .dataframe tbody tr th {\n",
       "        vertical-align: top;\n",
       "    }\n",
       "\n",
       "    .dataframe thead tr th {\n",
       "        text-align: left;\n",
       "    }\n",
       "</style>\n",
       "<table border=\"1\" class=\"dataframe\">\n",
       "  <thead>\n",
       "    <tr>\n",
       "      <th></th>\n",
       "      <th>class</th>\n",
       "      <th>figurative_word</th>\n",
       "      <th>figurative_count</th>\n",
       "    </tr>\n",
       "  </thead>\n",
       "  <tbody>\n",
       "    <tr>\n",
       "      <th>0</th>\n",
       "      <td>figurative</td>\n",
       "      <td>sarcasm</td>\n",
       "      <td>10215</td>\n",
       "    </tr>\n",
       "    <tr>\n",
       "      <th>1</th>\n",
       "      <td>figurative</td>\n",
       "      <td>irony</td>\n",
       "      <td>7981</td>\n",
       "    </tr>\n",
       "    <tr>\n",
       "      <th>2</th>\n",
       "      <td>figurative</td>\n",
       "      <td>ironic</td>\n",
       "      <td>2904</td>\n",
       "    </tr>\n",
       "    <tr>\n",
       "      <th>3</th>\n",
       "      <td>figurative</td>\n",
       "      <td>im</td>\n",
       "      <td>1075</td>\n",
       "    </tr>\n",
       "    <tr>\n",
       "      <th>4</th>\n",
       "      <td>figurative</td>\n",
       "      <td>like</td>\n",
       "      <td>999</td>\n",
       "    </tr>\n",
       "    <tr>\n",
       "      <th>...</th>\n",
       "      <td>...</td>\n",
       "      <td>...</td>\n",
       "      <td>...</td>\n",
       "    </tr>\n",
       "    <tr>\n",
       "      <th>37268</th>\n",
       "      <td>figurative</td>\n",
       "      <td>ilanaabby</td>\n",
       "      <td>1</td>\n",
       "    </tr>\n",
       "    <tr>\n",
       "      <th>37269</th>\n",
       "      <td>figurative</td>\n",
       "      <td>il</td>\n",
       "      <td>1</td>\n",
       "    </tr>\n",
       "    <tr>\n",
       "      <th>37270</th>\n",
       "      <td>figurative</td>\n",
       "      <td>ikwydls</td>\n",
       "      <td>1</td>\n",
       "    </tr>\n",
       "    <tr>\n",
       "      <th>37271</th>\n",
       "      <td>figurative</td>\n",
       "      <td>iknowwhoyouare</td>\n",
       "      <td>1</td>\n",
       "    </tr>\n",
       "    <tr>\n",
       "      <th>37272</th>\n",
       "      <td>figurative</td>\n",
       "      <td>«?«?«?«?«?«?</td>\n",
       "      <td>1</td>\n",
       "    </tr>\n",
       "  </tbody>\n",
       "</table>\n",
       "<p>37273 rows × 3 columns</p>\n",
       "</div>"
      ],
      "text/plain": [
       "            class     figurative_word figurative_count\n",
       "0      figurative             sarcasm            10215\n",
       "1      figurative               irony             7981\n",
       "2      figurative              ironic             2904\n",
       "3      figurative                  im             1075\n",
       "4      figurative                like              999\n",
       "...           ...                 ...              ...\n",
       "37268  figurative           ilanaabby                1\n",
       "37269  figurative                  il                1\n",
       "37270  figurative             ikwydls                1\n",
       "37271  figurative      iknowwhoyouare                1\n",
       "37272  figurative  «?«?«?«?«?«?                1\n",
       "\n",
       "[37273 rows x 3 columns]"
      ]
     },
     "execution_count": 21,
     "metadata": {},
     "output_type": "execute_result"
    }
   ],
   "source": [
    "df_fig"
   ]
  },
  {
   "cell_type": "code",
   "execution_count": 22,
   "id": "011f721a",
   "metadata": {},
   "outputs": [
    {
     "data": {
      "text/html": [
       "<div>\n",
       "<style scoped>\n",
       "    .dataframe tbody tr th:only-of-type {\n",
       "        vertical-align: middle;\n",
       "    }\n",
       "\n",
       "    .dataframe tbody tr th {\n",
       "        vertical-align: top;\n",
       "    }\n",
       "\n",
       "    .dataframe thead tr th {\n",
       "        text-align: left;\n",
       "    }\n",
       "</style>\n",
       "<table border=\"1\" class=\"dataframe\">\n",
       "  <thead>\n",
       "    <tr>\n",
       "      <th></th>\n",
       "      <th>figurative_word</th>\n",
       "      <th>class</th>\n",
       "    </tr>\n",
       "  </thead>\n",
       "  <tbody>\n",
       "    <tr>\n",
       "      <th>0</th>\n",
       "      <td>sarcasm</td>\n",
       "      <td>figurative</td>\n",
       "    </tr>\n",
       "    <tr>\n",
       "      <th>1</th>\n",
       "      <td>irony</td>\n",
       "      <td>figurative</td>\n",
       "    </tr>\n",
       "    <tr>\n",
       "      <th>2</th>\n",
       "      <td>ironic</td>\n",
       "      <td>figurative</td>\n",
       "    </tr>\n",
       "    <tr>\n",
       "      <th>3</th>\n",
       "      <td>im</td>\n",
       "      <td>figurative</td>\n",
       "    </tr>\n",
       "    <tr>\n",
       "      <th>4</th>\n",
       "      <td>like</td>\n",
       "      <td>figurative</td>\n",
       "    </tr>\n",
       "    <tr>\n",
       "      <th>...</th>\n",
       "      <td>...</td>\n",
       "      <td>...</td>\n",
       "    </tr>\n",
       "    <tr>\n",
       "      <th>37268</th>\n",
       "      <td>ilanaabby</td>\n",
       "      <td>figurative</td>\n",
       "    </tr>\n",
       "    <tr>\n",
       "      <th>37269</th>\n",
       "      <td>il</td>\n",
       "      <td>figurative</td>\n",
       "    </tr>\n",
       "    <tr>\n",
       "      <th>37270</th>\n",
       "      <td>ikwydls</td>\n",
       "      <td>figurative</td>\n",
       "    </tr>\n",
       "    <tr>\n",
       "      <th>37271</th>\n",
       "      <td>iknowwhoyouare</td>\n",
       "      <td>figurative</td>\n",
       "    </tr>\n",
       "    <tr>\n",
       "      <th>37272</th>\n",
       "      <td>«?«?«?«?«?«?</td>\n",
       "      <td>figurative</td>\n",
       "    </tr>\n",
       "  </tbody>\n",
       "</table>\n",
       "<p>37273 rows × 2 columns</p>\n",
       "</div>"
      ],
      "text/plain": [
       "          figurative_word       class\n",
       "0                 sarcasm  figurative\n",
       "1                   irony  figurative\n",
       "2                  ironic  figurative\n",
       "3                      im  figurative\n",
       "4                    like  figurative\n",
       "...                   ...         ...\n",
       "37268           ilanaabby  figurative\n",
       "37269                  il  figurative\n",
       "37270             ikwydls  figurative\n",
       "37271      iknowwhoyouare  figurative\n",
       "37272  «?«?«?«?«?«?  figurative\n",
       "\n",
       "[37273 rows x 2 columns]"
      ]
     },
     "execution_count": 22,
     "metadata": {},
     "output_type": "execute_result"
    }
   ],
   "source": [
    "df_fig=df_fig[[\"figurative_word\",\"class\"]]\n",
    "df_fig"
   ]
  },
  {
   "cell_type": "code",
   "execution_count": 23,
   "id": "1ec54a81",
   "metadata": {},
   "outputs": [
    {
     "data": {
      "text/html": [
       "<div>\n",
       "<style scoped>\n",
       "    .dataframe tbody tr th:only-of-type {\n",
       "        vertical-align: middle;\n",
       "    }\n",
       "\n",
       "    .dataframe tbody tr th {\n",
       "        vertical-align: top;\n",
       "    }\n",
       "\n",
       "    .dataframe thead tr th {\n",
       "        text-align: left;\n",
       "    }\n",
       "</style>\n",
       "<table border=\"1\" class=\"dataframe\">\n",
       "  <thead>\n",
       "    <tr>\n",
       "      <th></th>\n",
       "      <th>figurative_word</th>\n",
       "      <th>class</th>\n",
       "    </tr>\n",
       "  </thead>\n",
       "  <tbody>\n",
       "    <tr>\n",
       "      <th>12000</th>\n",
       "      <td>realsheldon</td>\n",
       "      <td>figurative</td>\n",
       "    </tr>\n",
       "    <tr>\n",
       "      <th>12001</th>\n",
       "      <td>nuzzle</td>\n",
       "      <td>figurative</td>\n",
       "    </tr>\n",
       "    <tr>\n",
       "      <th>12002</th>\n",
       "      <td>novsdal</td>\n",
       "      <td>figurative</td>\n",
       "    </tr>\n",
       "    <tr>\n",
       "      <th>12003</th>\n",
       "      <td>pixars</td>\n",
       "      <td>figurative</td>\n",
       "    </tr>\n",
       "    <tr>\n",
       "      <th>12004</th>\n",
       "      <td>novocain</td>\n",
       "      <td>figurative</td>\n",
       "    </tr>\n",
       "    <tr>\n",
       "      <th>...</th>\n",
       "      <td>...</td>\n",
       "      <td>...</td>\n",
       "    </tr>\n",
       "    <tr>\n",
       "      <th>37268</th>\n",
       "      <td>ilanaabby</td>\n",
       "      <td>figurative</td>\n",
       "    </tr>\n",
       "    <tr>\n",
       "      <th>37269</th>\n",
       "      <td>il</td>\n",
       "      <td>figurative</td>\n",
       "    </tr>\n",
       "    <tr>\n",
       "      <th>37270</th>\n",
       "      <td>ikwydls</td>\n",
       "      <td>figurative</td>\n",
       "    </tr>\n",
       "    <tr>\n",
       "      <th>37271</th>\n",
       "      <td>iknowwhoyouare</td>\n",
       "      <td>figurative</td>\n",
       "    </tr>\n",
       "    <tr>\n",
       "      <th>37272</th>\n",
       "      <td>«?«?«?«?«?«?</td>\n",
       "      <td>figurative</td>\n",
       "    </tr>\n",
       "  </tbody>\n",
       "</table>\n",
       "<p>25273 rows × 2 columns</p>\n",
       "</div>"
      ],
      "text/plain": [
       "          figurative_word       class\n",
       "12000         realsheldon  figurative\n",
       "12001              nuzzle  figurative\n",
       "12002             novsdal  figurative\n",
       "12003              pixars  figurative\n",
       "12004            novocain  figurative\n",
       "...                   ...         ...\n",
       "37268           ilanaabby  figurative\n",
       "37269                  il  figurative\n",
       "37270             ikwydls  figurative\n",
       "37271      iknowwhoyouare  figurative\n",
       "37272  «?«?«?«?«?«?  figurative\n",
       "\n",
       "[25273 rows x 2 columns]"
      ]
     },
     "execution_count": 23,
     "metadata": {},
     "output_type": "execute_result"
    }
   ],
   "source": [
    "df_fig_new=df_fig.iloc[12000:,:]\n",
    "df_fig_new"
   ]
  },
  {
   "cell_type": "code",
   "execution_count": 24,
   "id": "77701da0",
   "metadata": {},
   "outputs": [
    {
     "data": {
      "text/html": [
       "<div>\n",
       "<style scoped>\n",
       "    .dataframe tbody tr th:only-of-type {\n",
       "        vertical-align: middle;\n",
       "    }\n",
       "\n",
       "    .dataframe tbody tr th {\n",
       "        vertical-align: top;\n",
       "    }\n",
       "\n",
       "    .dataframe thead tr th {\n",
       "        text-align: left;\n",
       "    }\n",
       "</style>\n",
       "<table border=\"1\" class=\"dataframe\">\n",
       "  <thead>\n",
       "    <tr>\n",
       "      <th></th>\n",
       "      <th>figurative_word</th>\n",
       "      <th>class</th>\n",
       "    </tr>\n",
       "  </thead>\n",
       "  <tbody>\n",
       "    <tr>\n",
       "      <th>29577</th>\n",
       "      <td>bombblasts</td>\n",
       "      <td>figurative</td>\n",
       "    </tr>\n",
       "    <tr>\n",
       "      <th>36693</th>\n",
       "      <td>hospitalprobs</td>\n",
       "      <td>figurative</td>\n",
       "    </tr>\n",
       "    <tr>\n",
       "      <th>12791</th>\n",
       "      <td>postponed</td>\n",
       "      <td>figurative</td>\n",
       "    </tr>\n",
       "    <tr>\n",
       "      <th>31722</th>\n",
       "      <td>mop</td>\n",
       "      <td>figurative</td>\n",
       "    </tr>\n",
       "    <tr>\n",
       "      <th>27181</th>\n",
       "      <td>aartic</td>\n",
       "      <td>figurative</td>\n",
       "    </tr>\n",
       "    <tr>\n",
       "      <th>...</th>\n",
       "      <td>...</td>\n",
       "      <td>...</td>\n",
       "    </tr>\n",
       "    <tr>\n",
       "      <th>33022</th>\n",
       "      <td>merkelatoning</td>\n",
       "      <td>figurative</td>\n",
       "    </tr>\n",
       "    <tr>\n",
       "      <th>25946</th>\n",
       "      <td>artistmusician</td>\n",
       "      <td>figurative</td>\n",
       "    </tr>\n",
       "    <tr>\n",
       "      <th>30273</th>\n",
       "      <td>ludicrous</td>\n",
       "      <td>figurative</td>\n",
       "    </tr>\n",
       "    <tr>\n",
       "      <th>26321</th>\n",
       "      <td>appropriately</td>\n",
       "      <td>figurative</td>\n",
       "    </tr>\n",
       "    <tr>\n",
       "      <th>22892</th>\n",
       "      <td>dcj</td>\n",
       "      <td>figurative</td>\n",
       "    </tr>\n",
       "  </tbody>\n",
       "</table>\n",
       "<p>100 rows × 2 columns</p>\n",
       "</div>"
      ],
      "text/plain": [
       "      figurative_word       class\n",
       "29577      bombblasts  figurative\n",
       "36693   hospitalprobs  figurative\n",
       "12791       postponed  figurative\n",
       "31722             mop  figurative\n",
       "27181          aartic  figurative\n",
       "...               ...         ...\n",
       "33022   merkelatoning  figurative\n",
       "25946  artistmusician  figurative\n",
       "30273       ludicrous  figurative\n",
       "26321   appropriately  figurative\n",
       "22892             dcj  figurative\n",
       "\n",
       "[100 rows x 2 columns]"
      ]
     },
     "execution_count": 24,
     "metadata": {},
     "output_type": "execute_result"
    }
   ],
   "source": [
    "df_fig=df_fig_new.sample(n=100)\n",
    "df_fig"
   ]
  },
  {
   "cell_type": "markdown",
   "id": "97870412",
   "metadata": {},
   "source": [
    "# Irony class"
   ]
  },
  {
   "cell_type": "code",
   "execution_count": 25,
   "id": "2c72a350",
   "metadata": {},
   "outputs": [],
   "source": [
    "df_iron=pd.DataFrame(df[df[\"class\"]==\"irony\"].value_counts(),columns=column)"
   ]
  },
  {
   "cell_type": "code",
   "execution_count": 26,
   "id": "0914445d",
   "metadata": {},
   "outputs": [],
   "source": [
    "df_iron=df_iron.reset_index()"
   ]
  },
  {
   "cell_type": "code",
   "execution_count": 27,
   "id": "acdb33f8",
   "metadata": {},
   "outputs": [
    {
     "data": {
      "text/html": [
       "<div>\n",
       "<style scoped>\n",
       "    .dataframe tbody tr th:only-of-type {\n",
       "        vertical-align: middle;\n",
       "    }\n",
       "\n",
       "    .dataframe tbody tr th {\n",
       "        vertical-align: top;\n",
       "    }\n",
       "\n",
       "    .dataframe thead tr th {\n",
       "        text-align: left;\n",
       "    }\n",
       "</style>\n",
       "<table border=\"1\" class=\"dataframe\">\n",
       "  <thead>\n",
       "    <tr>\n",
       "      <th></th>\n",
       "      <th>class</th>\n",
       "      <th>words</th>\n",
       "      <th>Count</th>\n",
       "    </tr>\n",
       "  </thead>\n",
       "  <tbody>\n",
       "    <tr>\n",
       "      <th>0</th>\n",
       "      <td>irony</td>\n",
       "      <td>irony</td>\n",
       "      <td>16160</td>\n",
       "    </tr>\n",
       "    <tr>\n",
       "      <th>1</th>\n",
       "      <td>irony</td>\n",
       "      <td>ironic</td>\n",
       "      <td>5325</td>\n",
       "    </tr>\n",
       "    <tr>\n",
       "      <th>2</th>\n",
       "      <td>irony</td>\n",
       "      <td>people</td>\n",
       "      <td>1119</td>\n",
       "    </tr>\n",
       "    <tr>\n",
       "      <th>3</th>\n",
       "      <td>irony</td>\n",
       "      <td>amp</td>\n",
       "      <td>983</td>\n",
       "    </tr>\n",
       "    <tr>\n",
       "      <th>4</th>\n",
       "      <td>irony</td>\n",
       "      <td>like</td>\n",
       "      <td>899</td>\n",
       "    </tr>\n",
       "    <tr>\n",
       "      <th>...</th>\n",
       "      <td>...</td>\n",
       "      <td>...</td>\n",
       "      <td>...</td>\n",
       "    </tr>\n",
       "    <tr>\n",
       "      <th>37385</th>\n",
       "      <td>irony</td>\n",
       "      <td>hypocracy</td>\n",
       "      <td>1</td>\n",
       "    </tr>\n",
       "    <tr>\n",
       "      <th>37386</th>\n",
       "      <td>irony</td>\n",
       "      <td>hypochristie</td>\n",
       "      <td>1</td>\n",
       "    </tr>\n",
       "    <tr>\n",
       "      <th>37387</th>\n",
       "      <td>irony</td>\n",
       "      <td>hypnotic</td>\n",
       "      <td>1</td>\n",
       "    </tr>\n",
       "    <tr>\n",
       "      <th>37388</th>\n",
       "      <td>irony</td>\n",
       "      <td>hypersync</td>\n",
       "      <td>1</td>\n",
       "    </tr>\n",
       "    <tr>\n",
       "      <th>37389</th>\n",
       "      <td>irony</td>\n",
       "      <td>¥??ñ?ús</td>\n",
       "      <td>1</td>\n",
       "    </tr>\n",
       "  </tbody>\n",
       "</table>\n",
       "<p>37390 rows × 3 columns</p>\n",
       "</div>"
      ],
      "text/plain": [
       "       class         words  Count\n",
       "0      irony         irony  16160\n",
       "1      irony        ironic   5325\n",
       "2      irony        people   1119\n",
       "3      irony           amp    983\n",
       "4      irony          like    899\n",
       "...      ...           ...    ...\n",
       "37385  irony     hypocracy      1\n",
       "37386  irony  hypochristie      1\n",
       "37387  irony      hypnotic      1\n",
       "37388  irony     hypersync      1\n",
       "37389  irony       ¥??ñ?ús      1\n",
       "\n",
       "[37390 rows x 3 columns]"
      ]
     },
     "execution_count": 27,
     "metadata": {},
     "output_type": "execute_result"
    }
   ],
   "source": [
    "df_iron"
   ]
  },
  {
   "cell_type": "code",
   "execution_count": 28,
   "id": "6f7fe3b1",
   "metadata": {},
   "outputs": [],
   "source": [
    "df_iron.rename(columns={\"words\":\"irony_word\",\"Count\":\"irony_count\"},inplace=True)"
   ]
  },
  {
   "cell_type": "code",
   "execution_count": 29,
   "id": "a9b15f75",
   "metadata": {},
   "outputs": [],
   "source": [
    "df_iron=df_iron[[\"irony_word\",\"class\"]]"
   ]
  },
  {
   "cell_type": "code",
   "execution_count": 30,
   "id": "c37e0c77",
   "metadata": {},
   "outputs": [
    {
     "data": {
      "text/html": [
       "<div>\n",
       "<style scoped>\n",
       "    .dataframe tbody tr th:only-of-type {\n",
       "        vertical-align: middle;\n",
       "    }\n",
       "\n",
       "    .dataframe tbody tr th {\n",
       "        vertical-align: top;\n",
       "    }\n",
       "\n",
       "    .dataframe thead tr th {\n",
       "        text-align: left;\n",
       "    }\n",
       "</style>\n",
       "<table border=\"1\" class=\"dataframe\">\n",
       "  <thead>\n",
       "    <tr>\n",
       "      <th></th>\n",
       "      <th>irony_word</th>\n",
       "      <th>class</th>\n",
       "    </tr>\n",
       "  </thead>\n",
       "  <tbody>\n",
       "    <tr>\n",
       "      <th>0</th>\n",
       "      <td>irony</td>\n",
       "      <td>irony</td>\n",
       "    </tr>\n",
       "    <tr>\n",
       "      <th>1</th>\n",
       "      <td>ironic</td>\n",
       "      <td>irony</td>\n",
       "    </tr>\n",
       "    <tr>\n",
       "      <th>2</th>\n",
       "      <td>people</td>\n",
       "      <td>irony</td>\n",
       "    </tr>\n",
       "    <tr>\n",
       "      <th>3</th>\n",
       "      <td>amp</td>\n",
       "      <td>irony</td>\n",
       "    </tr>\n",
       "    <tr>\n",
       "      <th>4</th>\n",
       "      <td>like</td>\n",
       "      <td>irony</td>\n",
       "    </tr>\n",
       "    <tr>\n",
       "      <th>...</th>\n",
       "      <td>...</td>\n",
       "      <td>...</td>\n",
       "    </tr>\n",
       "    <tr>\n",
       "      <th>37385</th>\n",
       "      <td>hypocracy</td>\n",
       "      <td>irony</td>\n",
       "    </tr>\n",
       "    <tr>\n",
       "      <th>37386</th>\n",
       "      <td>hypochristie</td>\n",
       "      <td>irony</td>\n",
       "    </tr>\n",
       "    <tr>\n",
       "      <th>37387</th>\n",
       "      <td>hypnotic</td>\n",
       "      <td>irony</td>\n",
       "    </tr>\n",
       "    <tr>\n",
       "      <th>37388</th>\n",
       "      <td>hypersync</td>\n",
       "      <td>irony</td>\n",
       "    </tr>\n",
       "    <tr>\n",
       "      <th>37389</th>\n",
       "      <td>¥??ñ?ús</td>\n",
       "      <td>irony</td>\n",
       "    </tr>\n",
       "  </tbody>\n",
       "</table>\n",
       "<p>37390 rows × 2 columns</p>\n",
       "</div>"
      ],
      "text/plain": [
       "         irony_word  class\n",
       "0             irony  irony\n",
       "1            ironic  irony\n",
       "2            people  irony\n",
       "3               amp  irony\n",
       "4              like  irony\n",
       "...             ...    ...\n",
       "37385     hypocracy  irony\n",
       "37386  hypochristie  irony\n",
       "37387      hypnotic  irony\n",
       "37388     hypersync  irony\n",
       "37389       ¥??ñ?ús  irony\n",
       "\n",
       "[37390 rows x 2 columns]"
      ]
     },
     "execution_count": 30,
     "metadata": {},
     "output_type": "execute_result"
    }
   ],
   "source": [
    "df_iron"
   ]
  },
  {
   "cell_type": "code",
   "execution_count": 31,
   "id": "05a2f1b4",
   "metadata": {},
   "outputs": [
    {
     "data": {
      "text/html": [
       "<div>\n",
       "<style scoped>\n",
       "    .dataframe tbody tr th:only-of-type {\n",
       "        vertical-align: middle;\n",
       "    }\n",
       "\n",
       "    .dataframe tbody tr th {\n",
       "        vertical-align: top;\n",
       "    }\n",
       "\n",
       "    .dataframe thead tr th {\n",
       "        text-align: left;\n",
       "    }\n",
       "</style>\n",
       "<table border=\"1\" class=\"dataframe\">\n",
       "  <thead>\n",
       "    <tr>\n",
       "      <th></th>\n",
       "      <th>irony_word</th>\n",
       "      <th>class</th>\n",
       "    </tr>\n",
       "  </thead>\n",
       "  <tbody>\n",
       "    <tr>\n",
       "      <th>13000</th>\n",
       "      <td>noprezzie</td>\n",
       "      <td>irony</td>\n",
       "    </tr>\n",
       "    <tr>\n",
       "      <th>13001</th>\n",
       "      <td>noreallythatswhatitsays</td>\n",
       "      <td>irony</td>\n",
       "    </tr>\n",
       "    <tr>\n",
       "      <th>13002</th>\n",
       "      <td>norml</td>\n",
       "      <td>irony</td>\n",
       "    </tr>\n",
       "    <tr>\n",
       "      <th>13003</th>\n",
       "      <td>nicool</td>\n",
       "      <td>irony</td>\n",
       "    </tr>\n",
       "    <tr>\n",
       "      <th>13004</th>\n",
       "      <td>razakar</td>\n",
       "      <td>irony</td>\n",
       "    </tr>\n",
       "    <tr>\n",
       "      <th>...</th>\n",
       "      <td>...</td>\n",
       "      <td>...</td>\n",
       "    </tr>\n",
       "    <tr>\n",
       "      <th>37385</th>\n",
       "      <td>hypocracy</td>\n",
       "      <td>irony</td>\n",
       "    </tr>\n",
       "    <tr>\n",
       "      <th>37386</th>\n",
       "      <td>hypochristie</td>\n",
       "      <td>irony</td>\n",
       "    </tr>\n",
       "    <tr>\n",
       "      <th>37387</th>\n",
       "      <td>hypnotic</td>\n",
       "      <td>irony</td>\n",
       "    </tr>\n",
       "    <tr>\n",
       "      <th>37388</th>\n",
       "      <td>hypersync</td>\n",
       "      <td>irony</td>\n",
       "    </tr>\n",
       "    <tr>\n",
       "      <th>37389</th>\n",
       "      <td>¥??ñ?ús</td>\n",
       "      <td>irony</td>\n",
       "    </tr>\n",
       "  </tbody>\n",
       "</table>\n",
       "<p>24390 rows × 2 columns</p>\n",
       "</div>"
      ],
      "text/plain": [
       "                    irony_word  class\n",
       "13000                noprezzie  irony\n",
       "13001  noreallythatswhatitsays  irony\n",
       "13002                    norml  irony\n",
       "13003                   nicool  irony\n",
       "13004                  razakar  irony\n",
       "...                        ...    ...\n",
       "37385                hypocracy  irony\n",
       "37386             hypochristie  irony\n",
       "37387                 hypnotic  irony\n",
       "37388                hypersync  irony\n",
       "37389                  ¥??ñ?ús  irony\n",
       "\n",
       "[24390 rows x 2 columns]"
      ]
     },
     "execution_count": 31,
     "metadata": {},
     "output_type": "execute_result"
    }
   ],
   "source": [
    "df_iron_new=df_iron.iloc[13000:,:]\n",
    "df_iron_new"
   ]
  },
  {
   "cell_type": "code",
   "execution_count": 32,
   "id": "004967d6",
   "metadata": {},
   "outputs": [
    {
     "data": {
      "text/html": [
       "<div>\n",
       "<style scoped>\n",
       "    .dataframe tbody tr th:only-of-type {\n",
       "        vertical-align: middle;\n",
       "    }\n",
       "\n",
       "    .dataframe tbody tr th {\n",
       "        vertical-align: top;\n",
       "    }\n",
       "\n",
       "    .dataframe thead tr th {\n",
       "        text-align: left;\n",
       "    }\n",
       "</style>\n",
       "<table border=\"1\" class=\"dataframe\">\n",
       "  <thead>\n",
       "    <tr>\n",
       "      <th></th>\n",
       "      <th>irony_word</th>\n",
       "      <th>class</th>\n",
       "    </tr>\n",
       "  </thead>\n",
       "  <tbody>\n",
       "    <tr>\n",
       "      <th>28442</th>\n",
       "      <td>broadway</td>\n",
       "      <td>irony</td>\n",
       "    </tr>\n",
       "    <tr>\n",
       "      <th>31465</th>\n",
       "      <td>kuahmel</td>\n",
       "      <td>irony</td>\n",
       "    </tr>\n",
       "    <tr>\n",
       "      <th>32090</th>\n",
       "      <td>mikesullivanmp</td>\n",
       "      <td>irony</td>\n",
       "    </tr>\n",
       "    <tr>\n",
       "      <th>21096</th>\n",
       "      <td>steveacko</td>\n",
       "      <td>irony</td>\n",
       "    </tr>\n",
       "    <tr>\n",
       "      <th>26853</th>\n",
       "      <td>audreymirabella</td>\n",
       "      <td>irony</td>\n",
       "    </tr>\n",
       "    <tr>\n",
       "      <th>...</th>\n",
       "      <td>...</td>\n",
       "      <td>...</td>\n",
       "    </tr>\n",
       "    <tr>\n",
       "      <th>24785</th>\n",
       "      <td>fashioned</td>\n",
       "      <td>irony</td>\n",
       "    </tr>\n",
       "    <tr>\n",
       "      <th>28001</th>\n",
       "      <td>allright</td>\n",
       "      <td>irony</td>\n",
       "    </tr>\n",
       "    <tr>\n",
       "      <th>26264</th>\n",
       "      <td>assad</td>\n",
       "      <td>irony</td>\n",
       "    </tr>\n",
       "    <tr>\n",
       "      <th>28335</th>\n",
       "      <td>brazy</td>\n",
       "      <td>irony</td>\n",
       "    </tr>\n",
       "    <tr>\n",
       "      <th>18618</th>\n",
       "      <td>wearer</td>\n",
       "      <td>irony</td>\n",
       "    </tr>\n",
       "  </tbody>\n",
       "</table>\n",
       "<p>100 rows × 2 columns</p>\n",
       "</div>"
      ],
      "text/plain": [
       "            irony_word  class\n",
       "28442         broadway  irony\n",
       "31465          kuahmel  irony\n",
       "32090   mikesullivanmp  irony\n",
       "21096        steveacko  irony\n",
       "26853  audreymirabella  irony\n",
       "...                ...    ...\n",
       "24785        fashioned  irony\n",
       "28001         allright  irony\n",
       "26264            assad  irony\n",
       "28335            brazy  irony\n",
       "18618           wearer  irony\n",
       "\n",
       "[100 rows x 2 columns]"
      ]
     },
     "execution_count": 32,
     "metadata": {},
     "output_type": "execute_result"
    }
   ],
   "source": [
    "df_iron=df_iron_new.sample(n=100)\n",
    "df_iron"
   ]
  },
  {
   "cell_type": "markdown",
   "id": "096229d6",
   "metadata": {},
   "source": [
    "# sarcasm class"
   ]
  },
  {
   "cell_type": "code",
   "execution_count": 33,
   "id": "16a51f30",
   "metadata": {},
   "outputs": [],
   "source": [
    "df_sarcasm=pd.DataFrame(df[df[\"class\"]==\"sarcasm\"].value_counts(),columns=column)"
   ]
  },
  {
   "cell_type": "code",
   "execution_count": 34,
   "id": "58c13936",
   "metadata": {},
   "outputs": [],
   "source": [
    "df_sarcasm=df_sarcasm.reset_index()"
   ]
  },
  {
   "cell_type": "code",
   "execution_count": 35,
   "id": "0b619b21",
   "metadata": {},
   "outputs": [
    {
     "data": {
      "text/html": [
       "<div>\n",
       "<style scoped>\n",
       "    .dataframe tbody tr th:only-of-type {\n",
       "        vertical-align: middle;\n",
       "    }\n",
       "\n",
       "    .dataframe tbody tr th {\n",
       "        vertical-align: top;\n",
       "    }\n",
       "\n",
       "    .dataframe thead tr th {\n",
       "        text-align: left;\n",
       "    }\n",
       "</style>\n",
       "<table border=\"1\" class=\"dataframe\">\n",
       "  <thead>\n",
       "    <tr>\n",
       "      <th></th>\n",
       "      <th>class</th>\n",
       "      <th>words</th>\n",
       "      <th>Count</th>\n",
       "    </tr>\n",
       "  </thead>\n",
       "  <tbody>\n",
       "    <tr>\n",
       "      <th>0</th>\n",
       "      <td>sarcasm</td>\n",
       "      <td>sarcasm</td>\n",
       "      <td>19791</td>\n",
       "    </tr>\n",
       "    <tr>\n",
       "      <th>1</th>\n",
       "      <td>sarcasm</td>\n",
       "      <td>sarcastic</td>\n",
       "      <td>1249</td>\n",
       "    </tr>\n",
       "    <tr>\n",
       "      <th>2</th>\n",
       "      <td>sarcasm</td>\n",
       "      <td>im</td>\n",
       "      <td>1240</td>\n",
       "    </tr>\n",
       "    <tr>\n",
       "      <th>3</th>\n",
       "      <td>sarcasm</td>\n",
       "      <td>love</td>\n",
       "      <td>1209</td>\n",
       "    </tr>\n",
       "    <tr>\n",
       "      <th>4</th>\n",
       "      <td>sarcasm</td>\n",
       "      <td>like</td>\n",
       "      <td>1096</td>\n",
       "    </tr>\n",
       "    <tr>\n",
       "      <th>...</th>\n",
       "      <td>...</td>\n",
       "      <td>...</td>\n",
       "      <td>...</td>\n",
       "    </tr>\n",
       "    <tr>\n",
       "      <th>34201</th>\n",
       "      <td>sarcasm</td>\n",
       "      <td>icemelting</td>\n",
       "      <td>1</td>\n",
       "    </tr>\n",
       "    <tr>\n",
       "      <th>34202</th>\n",
       "      <td>sarcasm</td>\n",
       "      <td>icelandair</td>\n",
       "      <td>1</td>\n",
       "    </tr>\n",
       "    <tr>\n",
       "      <th>34203</th>\n",
       "      <td>sarcasm</td>\n",
       "      <td>iced</td>\n",
       "      <td>1</td>\n",
       "    </tr>\n",
       "    <tr>\n",
       "      <th>34204</th>\n",
       "      <td>sarcasm</td>\n",
       "      <td>icecream</td>\n",
       "      <td>1</td>\n",
       "    </tr>\n",
       "    <tr>\n",
       "      <th>34205</th>\n",
       "      <td>sarcasm</td>\n",
       "      <td>¥?ø¥??§?ø?ú?¬</td>\n",
       "      <td>1</td>\n",
       "    </tr>\n",
       "  </tbody>\n",
       "</table>\n",
       "<p>34206 rows × 3 columns</p>\n",
       "</div>"
      ],
      "text/plain": [
       "         class           words  Count\n",
       "0      sarcasm         sarcasm  19791\n",
       "1      sarcasm       sarcastic   1249\n",
       "2      sarcasm              im   1240\n",
       "3      sarcasm            love   1209\n",
       "4      sarcasm            like   1096\n",
       "...        ...             ...    ...\n",
       "34201  sarcasm      icemelting      1\n",
       "34202  sarcasm      icelandair      1\n",
       "34203  sarcasm            iced      1\n",
       "34204  sarcasm        icecream      1\n",
       "34205  sarcasm  ¥?ø¥??§?ø?ú?¬      1\n",
       "\n",
       "[34206 rows x 3 columns]"
      ]
     },
     "execution_count": 35,
     "metadata": {},
     "output_type": "execute_result"
    }
   ],
   "source": [
    "df_sarcasm"
   ]
  },
  {
   "cell_type": "code",
   "execution_count": 36,
   "id": "cea33036",
   "metadata": {},
   "outputs": [],
   "source": [
    "df_sarcasm.rename(columns={\"words\":\"sarcasm_word\",\"Count\":\"sarcasm_count\"},inplace=True)"
   ]
  },
  {
   "cell_type": "code",
   "execution_count": 37,
   "id": "bb0c0d74",
   "metadata": {},
   "outputs": [],
   "source": [
    "df_sar_new=df_sarcasm.iloc[11500:,:]"
   ]
  },
  {
   "cell_type": "code",
   "execution_count": 38,
   "id": "58b1f387",
   "metadata": {},
   "outputs": [
    {
     "data": {
      "text/html": [
       "<div>\n",
       "<style scoped>\n",
       "    .dataframe tbody tr th:only-of-type {\n",
       "        vertical-align: middle;\n",
       "    }\n",
       "\n",
       "    .dataframe tbody tr th {\n",
       "        vertical-align: top;\n",
       "    }\n",
       "\n",
       "    .dataframe thead tr th {\n",
       "        text-align: left;\n",
       "    }\n",
       "</style>\n",
       "<table border=\"1\" class=\"dataframe\">\n",
       "  <thead>\n",
       "    <tr>\n",
       "      <th></th>\n",
       "      <th>class</th>\n",
       "      <th>sarcasm_word</th>\n",
       "      <th>sarcasm_count</th>\n",
       "    </tr>\n",
       "  </thead>\n",
       "  <tbody>\n",
       "    <tr>\n",
       "      <th>20359</th>\n",
       "      <td>sarcasm</td>\n",
       "      <td>darned</td>\n",
       "      <td>1</td>\n",
       "    </tr>\n",
       "    <tr>\n",
       "      <th>28338</th>\n",
       "      <td>sarcasm</td>\n",
       "      <td>jmitchellwsj</td>\n",
       "      <td>1</td>\n",
       "    </tr>\n",
       "    <tr>\n",
       "      <th>14306</th>\n",
       "      <td>sarcasm</td>\n",
       "      <td>unv</td>\n",
       "      <td>1</td>\n",
       "    </tr>\n",
       "    <tr>\n",
       "      <th>18851</th>\n",
       "      <td>sarcasm</td>\n",
       "      <td>stinkingnetworks</td>\n",
       "      <td>1</td>\n",
       "    </tr>\n",
       "    <tr>\n",
       "      <th>25213</th>\n",
       "      <td>sarcasm</td>\n",
       "      <td>anfieldrd</td>\n",
       "      <td>1</td>\n",
       "    </tr>\n",
       "    <tr>\n",
       "      <th>...</th>\n",
       "      <td>...</td>\n",
       "      <td>...</td>\n",
       "      <td>...</td>\n",
       "    </tr>\n",
       "    <tr>\n",
       "      <th>25253</th>\n",
       "      <td>sarcasm</td>\n",
       "      <td>allaboutit</td>\n",
       "      <td>1</td>\n",
       "    </tr>\n",
       "    <tr>\n",
       "      <th>24360</th>\n",
       "      <td>sarcasm</td>\n",
       "      <td>azaleacloud</td>\n",
       "      <td>1</td>\n",
       "    </tr>\n",
       "    <tr>\n",
       "      <th>14752</th>\n",
       "      <td>sarcasm</td>\n",
       "      <td>thatisvogue</td>\n",
       "      <td>1</td>\n",
       "    </tr>\n",
       "    <tr>\n",
       "      <th>20745</th>\n",
       "      <td>sarcasm</td>\n",
       "      <td>digimon</td>\n",
       "      <td>1</td>\n",
       "    </tr>\n",
       "    <tr>\n",
       "      <th>27480</th>\n",
       "      <td>sarcasm</td>\n",
       "      <td>kreanzz</td>\n",
       "      <td>1</td>\n",
       "    </tr>\n",
       "  </tbody>\n",
       "</table>\n",
       "<p>100 rows × 3 columns</p>\n",
       "</div>"
      ],
      "text/plain": [
       "         class      sarcasm_word sarcasm_count\n",
       "20359  sarcasm            darned             1\n",
       "28338  sarcasm      jmitchellwsj             1\n",
       "14306  sarcasm               unv             1\n",
       "18851  sarcasm  stinkingnetworks             1\n",
       "25213  sarcasm         anfieldrd             1\n",
       "...        ...               ...           ...\n",
       "25253  sarcasm        allaboutit             1\n",
       "24360  sarcasm       azaleacloud             1\n",
       "14752  sarcasm       thatisvogue             1\n",
       "20745  sarcasm           digimon             1\n",
       "27480  sarcasm           kreanzz             1\n",
       "\n",
       "[100 rows x 3 columns]"
      ]
     },
     "execution_count": 38,
     "metadata": {},
     "output_type": "execute_result"
    }
   ],
   "source": [
    "df_sarcasm=df_sar_new.sample(n=100)\n",
    "df_sarcasm"
   ]
  },
  {
   "cell_type": "code",
   "execution_count": 39,
   "id": "83e59f80",
   "metadata": {},
   "outputs": [],
   "source": [
    "df_sarcasm=df_sarcasm[[\"sarcasm_word\",\"class\"]]"
   ]
  },
  {
   "cell_type": "code",
   "execution_count": 40,
   "id": "e09faf14",
   "metadata": {},
   "outputs": [
    {
     "data": {
      "text/html": [
       "<div>\n",
       "<style scoped>\n",
       "    .dataframe tbody tr th:only-of-type {\n",
       "        vertical-align: middle;\n",
       "    }\n",
       "\n",
       "    .dataframe tbody tr th {\n",
       "        vertical-align: top;\n",
       "    }\n",
       "\n",
       "    .dataframe thead tr th {\n",
       "        text-align: left;\n",
       "    }\n",
       "</style>\n",
       "<table border=\"1\" class=\"dataframe\">\n",
       "  <thead>\n",
       "    <tr>\n",
       "      <th></th>\n",
       "      <th>sarcasm_word</th>\n",
       "      <th>class</th>\n",
       "    </tr>\n",
       "  </thead>\n",
       "  <tbody>\n",
       "    <tr>\n",
       "      <th>20359</th>\n",
       "      <td>darned</td>\n",
       "      <td>sarcasm</td>\n",
       "    </tr>\n",
       "    <tr>\n",
       "      <th>28338</th>\n",
       "      <td>jmitchellwsj</td>\n",
       "      <td>sarcasm</td>\n",
       "    </tr>\n",
       "    <tr>\n",
       "      <th>14306</th>\n",
       "      <td>unv</td>\n",
       "      <td>sarcasm</td>\n",
       "    </tr>\n",
       "    <tr>\n",
       "      <th>18851</th>\n",
       "      <td>stinkingnetworks</td>\n",
       "      <td>sarcasm</td>\n",
       "    </tr>\n",
       "    <tr>\n",
       "      <th>25213</th>\n",
       "      <td>anfieldrd</td>\n",
       "      <td>sarcasm</td>\n",
       "    </tr>\n",
       "    <tr>\n",
       "      <th>...</th>\n",
       "      <td>...</td>\n",
       "      <td>...</td>\n",
       "    </tr>\n",
       "    <tr>\n",
       "      <th>25253</th>\n",
       "      <td>allaboutit</td>\n",
       "      <td>sarcasm</td>\n",
       "    </tr>\n",
       "    <tr>\n",
       "      <th>24360</th>\n",
       "      <td>azaleacloud</td>\n",
       "      <td>sarcasm</td>\n",
       "    </tr>\n",
       "    <tr>\n",
       "      <th>14752</th>\n",
       "      <td>thatisvogue</td>\n",
       "      <td>sarcasm</td>\n",
       "    </tr>\n",
       "    <tr>\n",
       "      <th>20745</th>\n",
       "      <td>digimon</td>\n",
       "      <td>sarcasm</td>\n",
       "    </tr>\n",
       "    <tr>\n",
       "      <th>27480</th>\n",
       "      <td>kreanzz</td>\n",
       "      <td>sarcasm</td>\n",
       "    </tr>\n",
       "  </tbody>\n",
       "</table>\n",
       "<p>100 rows × 2 columns</p>\n",
       "</div>"
      ],
      "text/plain": [
       "           sarcasm_word    class\n",
       "20359            darned  sarcasm\n",
       "28338      jmitchellwsj  sarcasm\n",
       "14306               unv  sarcasm\n",
       "18851  stinkingnetworks  sarcasm\n",
       "25213         anfieldrd  sarcasm\n",
       "...                 ...      ...\n",
       "25253        allaboutit  sarcasm\n",
       "24360       azaleacloud  sarcasm\n",
       "14752       thatisvogue  sarcasm\n",
       "20745           digimon  sarcasm\n",
       "27480           kreanzz  sarcasm\n",
       "\n",
       "[100 rows x 2 columns]"
      ]
     },
     "execution_count": 40,
     "metadata": {},
     "output_type": "execute_result"
    }
   ],
   "source": [
    "df_sarcasm"
   ]
  },
  {
   "cell_type": "markdown",
   "id": "a8314d19",
   "metadata": {},
   "source": [
    "# Regular class"
   ]
  },
  {
   "cell_type": "code",
   "execution_count": 41,
   "id": "7fb6abf4",
   "metadata": {},
   "outputs": [],
   "source": [
    "df_regular=pd.DataFrame(df[df[\"class\"]==\"regular\"].value_counts(),columns=column)\n",
    "df_regular=df_regular.reset_index()"
   ]
  },
  {
   "cell_type": "code",
   "execution_count": 42,
   "id": "b63d9c3f",
   "metadata": {},
   "outputs": [],
   "source": [
    "df_regular.rename(columns={\"words\":\"regular_word\",\"Count\":\"regular_count\"},inplace=True)"
   ]
  },
  {
   "cell_type": "code",
   "execution_count": 43,
   "id": "b5326fc7",
   "metadata": {},
   "outputs": [],
   "source": [
    "df_regular=df_regular[[\"regular_word\",\"regular_count\",\"class\"]]"
   ]
  },
  {
   "cell_type": "code",
   "execution_count": 44,
   "id": "ce2d8164",
   "metadata": {},
   "outputs": [
    {
     "data": {
      "text/html": [
       "<div>\n",
       "<style scoped>\n",
       "    .dataframe tbody tr th:only-of-type {\n",
       "        vertical-align: middle;\n",
       "    }\n",
       "\n",
       "    .dataframe tbody tr th {\n",
       "        vertical-align: top;\n",
       "    }\n",
       "\n",
       "    .dataframe thead tr th {\n",
       "        text-align: left;\n",
       "    }\n",
       "</style>\n",
       "<table border=\"1\" class=\"dataframe\">\n",
       "  <thead>\n",
       "    <tr>\n",
       "      <th></th>\n",
       "      <th>regular_word</th>\n",
       "      <th>regular_count</th>\n",
       "      <th>class</th>\n",
       "    </tr>\n",
       "  </thead>\n",
       "  <tbody>\n",
       "    <tr>\n",
       "      <th>0</th>\n",
       "      <td>peace</td>\n",
       "      <td>2977</td>\n",
       "      <td>regular</td>\n",
       "    </tr>\n",
       "    <tr>\n",
       "      <th>1</th>\n",
       "      <td>news</td>\n",
       "      <td>2945</td>\n",
       "      <td>regular</td>\n",
       "    </tr>\n",
       "    <tr>\n",
       "      <th>2</th>\n",
       "      <td>drug</td>\n",
       "      <td>2819</td>\n",
       "      <td>regular</td>\n",
       "    </tr>\n",
       "    <tr>\n",
       "      <th>3</th>\n",
       "      <td>late</td>\n",
       "      <td>2767</td>\n",
       "      <td>regular</td>\n",
       "    </tr>\n",
       "    <tr>\n",
       "      <th>4</th>\n",
       "      <td>education</td>\n",
       "      <td>2766</td>\n",
       "      <td>regular</td>\n",
       "    </tr>\n",
       "    <tr>\n",
       "      <th>...</th>\n",
       "      <td>...</td>\n",
       "      <td>...</td>\n",
       "      <td>...</td>\n",
       "    </tr>\n",
       "    <tr>\n",
       "      <th>29851</th>\n",
       "      <td>karasek</td>\n",
       "      <td>1</td>\n",
       "      <td>regular</td>\n",
       "    </tr>\n",
       "    <tr>\n",
       "      <th>29852</th>\n",
       "      <td>karamarko</td>\n",
       "      <td>1</td>\n",
       "      <td>regular</td>\n",
       "    </tr>\n",
       "    <tr>\n",
       "      <th>29853</th>\n",
       "      <td>kaptestnews</td>\n",
       "      <td>1</td>\n",
       "      <td>regular</td>\n",
       "    </tr>\n",
       "    <tr>\n",
       "      <th>29854</th>\n",
       "      <td>kanyewest</td>\n",
       "      <td>1</td>\n",
       "      <td>regular</td>\n",
       "    </tr>\n",
       "    <tr>\n",
       "      <th>29855</th>\n",
       "      <td>aumontgomery</td>\n",
       "      <td>1</td>\n",
       "      <td>regular</td>\n",
       "    </tr>\n",
       "  </tbody>\n",
       "</table>\n",
       "<p>29856 rows × 3 columns</p>\n",
       "</div>"
      ],
      "text/plain": [
       "       regular_word regular_count    class\n",
       "0             peace          2977  regular\n",
       "1              news          2945  regular\n",
       "2              drug          2819  regular\n",
       "3              late          2767  regular\n",
       "4         education          2766  regular\n",
       "...             ...           ...      ...\n",
       "29851       karasek             1  regular\n",
       "29852     karamarko             1  regular\n",
       "29853   kaptestnews             1  regular\n",
       "29854     kanyewest             1  regular\n",
       "29855  aumontgomery             1  regular\n",
       "\n",
       "[29856 rows x 3 columns]"
      ]
     },
     "execution_count": 44,
     "metadata": {},
     "output_type": "execute_result"
    }
   ],
   "source": [
    "df_regular"
   ]
  },
  {
   "cell_type": "code",
   "execution_count": 45,
   "id": "242f27c4",
   "metadata": {},
   "outputs": [],
   "source": [
    "df_reg_new=df_regular.iloc[-5000:-4900,:]"
   ]
  },
  {
   "cell_type": "code",
   "execution_count": 46,
   "id": "cdbee0a1",
   "metadata": {},
   "outputs": [],
   "source": [
    "df_regular=df_reg_new.sample(n=100)"
   ]
  },
  {
   "cell_type": "code",
   "execution_count": 47,
   "id": "feb6f9f0",
   "metadata": {},
   "outputs": [],
   "source": [
    "df_regular=df_regular[[\"regular_word\",\"class\"]]"
   ]
  },
  {
   "cell_type": "code",
   "execution_count": 48,
   "id": "1fb758f9",
   "metadata": {},
   "outputs": [
    {
     "data": {
      "text/html": [
       "<div>\n",
       "<style scoped>\n",
       "    .dataframe tbody tr th:only-of-type {\n",
       "        vertical-align: middle;\n",
       "    }\n",
       "\n",
       "    .dataframe tbody tr th {\n",
       "        vertical-align: top;\n",
       "    }\n",
       "\n",
       "    .dataframe thead tr th {\n",
       "        text-align: left;\n",
       "    }\n",
       "</style>\n",
       "<table border=\"1\" class=\"dataframe\">\n",
       "  <thead>\n",
       "    <tr>\n",
       "      <th></th>\n",
       "      <th>regular_word</th>\n",
       "      <th>class</th>\n",
       "    </tr>\n",
       "  </thead>\n",
       "  <tbody>\n",
       "    <tr>\n",
       "      <th>24876</th>\n",
       "      <td>mightve</td>\n",
       "      <td>regular</td>\n",
       "    </tr>\n",
       "    <tr>\n",
       "      <th>24881</th>\n",
       "      <td>midterm</td>\n",
       "      <td>regular</td>\n",
       "    </tr>\n",
       "    <tr>\n",
       "      <th>24911</th>\n",
       "      <td>microbiology</td>\n",
       "      <td>regular</td>\n",
       "    </tr>\n",
       "    <tr>\n",
       "      <th>24860</th>\n",
       "      <td>misinformation</td>\n",
       "      <td>regular</td>\n",
       "    </tr>\n",
       "    <tr>\n",
       "      <th>24930</th>\n",
       "      <td>midnitebikelife</td>\n",
       "      <td>regular</td>\n",
       "    </tr>\n",
       "    <tr>\n",
       "      <th>...</th>\n",
       "      <td>...</td>\n",
       "      <td>...</td>\n",
       "    </tr>\n",
       "    <tr>\n",
       "      <th>24938</th>\n",
       "      <td>middleparting</td>\n",
       "      <td>regular</td>\n",
       "    </tr>\n",
       "    <tr>\n",
       "      <th>24864</th>\n",
       "      <td>milendsingh</td>\n",
       "      <td>regular</td>\n",
       "    </tr>\n",
       "    <tr>\n",
       "      <th>24906</th>\n",
       "      <td>micro</td>\n",
       "      <td>regular</td>\n",
       "    </tr>\n",
       "    <tr>\n",
       "      <th>24948</th>\n",
       "      <td>misguided</td>\n",
       "      <td>regular</td>\n",
       "    </tr>\n",
       "    <tr>\n",
       "      <th>24861</th>\n",
       "      <td>mishm</td>\n",
       "      <td>regular</td>\n",
       "    </tr>\n",
       "  </tbody>\n",
       "</table>\n",
       "<p>100 rows × 2 columns</p>\n",
       "</div>"
      ],
      "text/plain": [
       "          regular_word    class\n",
       "24876          mightve  regular\n",
       "24881          midterm  regular\n",
       "24911     microbiology  regular\n",
       "24860   misinformation  regular\n",
       "24930  midnitebikelife  regular\n",
       "...                ...      ...\n",
       "24938    middleparting  regular\n",
       "24864      milendsingh  regular\n",
       "24906            micro  regular\n",
       "24948        misguided  regular\n",
       "24861            mishm  regular\n",
       "\n",
       "[100 rows x 2 columns]"
      ]
     },
     "execution_count": 48,
     "metadata": {},
     "output_type": "execute_result"
    }
   ],
   "source": [
    "df_regular"
   ]
  },
  {
   "cell_type": "code",
   "execution_count": 49,
   "id": "aabbb822",
   "metadata": {},
   "outputs": [],
   "source": [
    "df_fig.rename(columns={\"figurative_word\":\"word\"},inplace=True)"
   ]
  },
  {
   "cell_type": "code",
   "execution_count": 50,
   "id": "b4a71c6b",
   "metadata": {},
   "outputs": [],
   "source": [
    "df_iron.rename(columns={\"irony_word\":\"word\"},inplace=True)"
   ]
  },
  {
   "cell_type": "code",
   "execution_count": 51,
   "id": "be6c2d90",
   "metadata": {},
   "outputs": [],
   "source": [
    "df_regular.rename(columns={\"regular_word\":\"word\"},inplace=True)"
   ]
  },
  {
   "cell_type": "code",
   "execution_count": 52,
   "id": "1624e081",
   "metadata": {},
   "outputs": [
    {
     "name": "stderr",
     "output_type": "stream",
     "text": [
      "C:\\Users\\Dell\\AppData\\Local\\Temp\\ipykernel_12316\\3030197273.py:1: SettingWithCopyWarning: \n",
      "A value is trying to be set on a copy of a slice from a DataFrame\n",
      "\n",
      "See the caveats in the documentation: https://pandas.pydata.org/pandas-docs/stable/user_guide/indexing.html#returning-a-view-versus-a-copy\n",
      "  df_sarcasm.rename(columns={\"sarcasm_word\":\"word\"},inplace=True)\n"
     ]
    }
   ],
   "source": [
    "df_sarcasm.rename(columns={\"sarcasm_word\":\"word\"},inplace=True)"
   ]
  },
  {
   "cell_type": "code",
   "execution_count": 53,
   "id": "a1085acb",
   "metadata": {},
   "outputs": [],
   "source": [
    "concatenated_df = pd.concat([df_fig,df_iron,df_regular,df_sarcasm], axis=0)"
   ]
  },
  {
   "cell_type": "code",
   "execution_count": 54,
   "id": "ce3d20a0",
   "metadata": {},
   "outputs": [
    {
     "data": {
      "text/html": [
       "<div>\n",
       "<style scoped>\n",
       "    .dataframe tbody tr th:only-of-type {\n",
       "        vertical-align: middle;\n",
       "    }\n",
       "\n",
       "    .dataframe tbody tr th {\n",
       "        vertical-align: top;\n",
       "    }\n",
       "\n",
       "    .dataframe thead tr th {\n",
       "        text-align: left;\n",
       "    }\n",
       "</style>\n",
       "<table border=\"1\" class=\"dataframe\">\n",
       "  <thead>\n",
       "    <tr>\n",
       "      <th></th>\n",
       "      <th>word</th>\n",
       "      <th>class</th>\n",
       "    </tr>\n",
       "  </thead>\n",
       "  <tbody>\n",
       "    <tr>\n",
       "      <th>29577</th>\n",
       "      <td>bombblasts</td>\n",
       "      <td>figurative</td>\n",
       "    </tr>\n",
       "    <tr>\n",
       "      <th>36693</th>\n",
       "      <td>hospitalprobs</td>\n",
       "      <td>figurative</td>\n",
       "    </tr>\n",
       "    <tr>\n",
       "      <th>12791</th>\n",
       "      <td>postponed</td>\n",
       "      <td>figurative</td>\n",
       "    </tr>\n",
       "    <tr>\n",
       "      <th>31722</th>\n",
       "      <td>mop</td>\n",
       "      <td>figurative</td>\n",
       "    </tr>\n",
       "    <tr>\n",
       "      <th>27181</th>\n",
       "      <td>aartic</td>\n",
       "      <td>figurative</td>\n",
       "    </tr>\n",
       "    <tr>\n",
       "      <th>...</th>\n",
       "      <td>...</td>\n",
       "      <td>...</td>\n",
       "    </tr>\n",
       "    <tr>\n",
       "      <th>25253</th>\n",
       "      <td>allaboutit</td>\n",
       "      <td>sarcasm</td>\n",
       "    </tr>\n",
       "    <tr>\n",
       "      <th>24360</th>\n",
       "      <td>azaleacloud</td>\n",
       "      <td>sarcasm</td>\n",
       "    </tr>\n",
       "    <tr>\n",
       "      <th>14752</th>\n",
       "      <td>thatisvogue</td>\n",
       "      <td>sarcasm</td>\n",
       "    </tr>\n",
       "    <tr>\n",
       "      <th>20745</th>\n",
       "      <td>digimon</td>\n",
       "      <td>sarcasm</td>\n",
       "    </tr>\n",
       "    <tr>\n",
       "      <th>27480</th>\n",
       "      <td>kreanzz</td>\n",
       "      <td>sarcasm</td>\n",
       "    </tr>\n",
       "  </tbody>\n",
       "</table>\n",
       "<p>400 rows × 2 columns</p>\n",
       "</div>"
      ],
      "text/plain": [
       "                word       class\n",
       "29577     bombblasts  figurative\n",
       "36693  hospitalprobs  figurative\n",
       "12791      postponed  figurative\n",
       "31722            mop  figurative\n",
       "27181         aartic  figurative\n",
       "...              ...         ...\n",
       "25253     allaboutit     sarcasm\n",
       "24360    azaleacloud     sarcasm\n",
       "14752    thatisvogue     sarcasm\n",
       "20745        digimon     sarcasm\n",
       "27480        kreanzz     sarcasm\n",
       "\n",
       "[400 rows x 2 columns]"
      ]
     },
     "execution_count": 54,
     "metadata": {},
     "output_type": "execute_result"
    }
   ],
   "source": [
    "concatenated_df"
   ]
  },
  {
   "cell_type": "code",
   "execution_count": 55,
   "id": "f5c26657",
   "metadata": {},
   "outputs": [],
   "source": [
    "concatenated_df.to_csv(\"final_tweet.csv\")"
   ]
  },
  {
   "cell_type": "code",
   "execution_count": 56,
   "id": "c9f5bf48",
   "metadata": {},
   "outputs": [],
   "source": [
    "from sklearn.feature_extraction.text import CountVectorizer"
   ]
  },
  {
   "cell_type": "code",
   "execution_count": 57,
   "id": "4e79c424",
   "metadata": {},
   "outputs": [
    {
     "data": {
      "text/html": [
       "<div>\n",
       "<style scoped>\n",
       "    .dataframe tbody tr th:only-of-type {\n",
       "        vertical-align: middle;\n",
       "    }\n",
       "\n",
       "    .dataframe tbody tr th {\n",
       "        vertical-align: top;\n",
       "    }\n",
       "\n",
       "    .dataframe thead tr th {\n",
       "        text-align: left;\n",
       "    }\n",
       "</style>\n",
       "<table border=\"1\" class=\"dataframe\">\n",
       "  <thead>\n",
       "    <tr>\n",
       "      <th></th>\n",
       "      <th>word</th>\n",
       "      <th>class</th>\n",
       "    </tr>\n",
       "  </thead>\n",
       "  <tbody>\n",
       "    <tr>\n",
       "      <th>29577</th>\n",
       "      <td>bombblasts</td>\n",
       "      <td>figurative</td>\n",
       "    </tr>\n",
       "    <tr>\n",
       "      <th>36693</th>\n",
       "      <td>hospitalprobs</td>\n",
       "      <td>figurative</td>\n",
       "    </tr>\n",
       "    <tr>\n",
       "      <th>12791</th>\n",
       "      <td>postponed</td>\n",
       "      <td>figurative</td>\n",
       "    </tr>\n",
       "    <tr>\n",
       "      <th>31722</th>\n",
       "      <td>mop</td>\n",
       "      <td>figurative</td>\n",
       "    </tr>\n",
       "    <tr>\n",
       "      <th>27181</th>\n",
       "      <td>aartic</td>\n",
       "      <td>figurative</td>\n",
       "    </tr>\n",
       "    <tr>\n",
       "      <th>...</th>\n",
       "      <td>...</td>\n",
       "      <td>...</td>\n",
       "    </tr>\n",
       "    <tr>\n",
       "      <th>25253</th>\n",
       "      <td>allaboutit</td>\n",
       "      <td>sarcasm</td>\n",
       "    </tr>\n",
       "    <tr>\n",
       "      <th>24360</th>\n",
       "      <td>azaleacloud</td>\n",
       "      <td>sarcasm</td>\n",
       "    </tr>\n",
       "    <tr>\n",
       "      <th>14752</th>\n",
       "      <td>thatisvogue</td>\n",
       "      <td>sarcasm</td>\n",
       "    </tr>\n",
       "    <tr>\n",
       "      <th>20745</th>\n",
       "      <td>digimon</td>\n",
       "      <td>sarcasm</td>\n",
       "    </tr>\n",
       "    <tr>\n",
       "      <th>27480</th>\n",
       "      <td>kreanzz</td>\n",
       "      <td>sarcasm</td>\n",
       "    </tr>\n",
       "  </tbody>\n",
       "</table>\n",
       "<p>400 rows × 2 columns</p>\n",
       "</div>"
      ],
      "text/plain": [
       "                word       class\n",
       "29577     bombblasts  figurative\n",
       "36693  hospitalprobs  figurative\n",
       "12791      postponed  figurative\n",
       "31722            mop  figurative\n",
       "27181         aartic  figurative\n",
       "...              ...         ...\n",
       "25253     allaboutit     sarcasm\n",
       "24360    azaleacloud     sarcasm\n",
       "14752    thatisvogue     sarcasm\n",
       "20745        digimon     sarcasm\n",
       "27480        kreanzz     sarcasm\n",
       "\n",
       "[400 rows x 2 columns]"
      ]
     },
     "execution_count": 57,
     "metadata": {},
     "output_type": "execute_result"
    }
   ],
   "source": [
    "concatenated_df"
   ]
  },
  {
   "cell_type": "code",
   "execution_count": 58,
   "id": "2a81dd10",
   "metadata": {},
   "outputs": [
    {
     "data": {
      "text/html": [
       "<div>\n",
       "<style scoped>\n",
       "    .dataframe tbody tr th:only-of-type {\n",
       "        vertical-align: middle;\n",
       "    }\n",
       "\n",
       "    .dataframe tbody tr th {\n",
       "        vertical-align: top;\n",
       "    }\n",
       "\n",
       "    .dataframe thead tr th {\n",
       "        text-align: left;\n",
       "    }\n",
       "</style>\n",
       "<table border=\"1\" class=\"dataframe\">\n",
       "  <thead>\n",
       "    <tr>\n",
       "      <th></th>\n",
       "      <th>word</th>\n",
       "    </tr>\n",
       "  </thead>\n",
       "  <tbody>\n",
       "    <tr>\n",
       "      <th>29577</th>\n",
       "      <td>bombblasts</td>\n",
       "    </tr>\n",
       "    <tr>\n",
       "      <th>36693</th>\n",
       "      <td>hospitalprobs</td>\n",
       "    </tr>\n",
       "    <tr>\n",
       "      <th>12791</th>\n",
       "      <td>postponed</td>\n",
       "    </tr>\n",
       "    <tr>\n",
       "      <th>31722</th>\n",
       "      <td>mop</td>\n",
       "    </tr>\n",
       "    <tr>\n",
       "      <th>27181</th>\n",
       "      <td>aartic</td>\n",
       "    </tr>\n",
       "    <tr>\n",
       "      <th>...</th>\n",
       "      <td>...</td>\n",
       "    </tr>\n",
       "    <tr>\n",
       "      <th>25253</th>\n",
       "      <td>allaboutit</td>\n",
       "    </tr>\n",
       "    <tr>\n",
       "      <th>24360</th>\n",
       "      <td>azaleacloud</td>\n",
       "    </tr>\n",
       "    <tr>\n",
       "      <th>14752</th>\n",
       "      <td>thatisvogue</td>\n",
       "    </tr>\n",
       "    <tr>\n",
       "      <th>20745</th>\n",
       "      <td>digimon</td>\n",
       "    </tr>\n",
       "    <tr>\n",
       "      <th>27480</th>\n",
       "      <td>kreanzz</td>\n",
       "    </tr>\n",
       "  </tbody>\n",
       "</table>\n",
       "<p>400 rows × 1 columns</p>\n",
       "</div>"
      ],
      "text/plain": [
       "                word\n",
       "29577     bombblasts\n",
       "36693  hospitalprobs\n",
       "12791      postponed\n",
       "31722            mop\n",
       "27181         aartic\n",
       "...              ...\n",
       "25253     allaboutit\n",
       "24360    azaleacloud\n",
       "14752    thatisvogue\n",
       "20745        digimon\n",
       "27480        kreanzz\n",
       "\n",
       "[400 rows x 1 columns]"
      ]
     },
     "execution_count": 58,
     "metadata": {},
     "output_type": "execute_result"
    }
   ],
   "source": [
    "word=concatenated_df[\"word\"]\n",
    "word"
   ]
  },
  {
   "cell_type": "code",
   "execution_count": 59,
   "id": "527bf482",
   "metadata": {},
   "outputs": [
    {
     "ename": "NameError",
     "evalue": "name 'classes' is not defined",
     "output_type": "error",
     "traceback": [
      "\u001b[1;31m---------------------------------------------------------------------------\u001b[0m",
      "\u001b[1;31mNameError\u001b[0m                                 Traceback (most recent call last)",
      "\u001b[1;32m~\\AppData\\Local\\Temp\\ipykernel_12316\\1530547492.py\u001b[0m in \u001b[0;36m<module>\u001b[1;34m\u001b[0m\n\u001b[1;32m----> 1\u001b[1;33m \u001b[0mclasses\u001b[0m\u001b[1;33m\u001b[0m\u001b[1;33m\u001b[0m\u001b[0m\n\u001b[0m",
      "\u001b[1;31mNameError\u001b[0m: name 'classes' is not defined"
     ]
    }
   ],
   "source": [
    "classes"
   ]
  },
  {
   "cell_type": "code",
   "execution_count": null,
   "id": "48465ebf",
   "metadata": {},
   "outputs": [],
   "source": [
    "label_encoder = LabelEncoder()\n",
    "classs=label_encoder.fit_transform(classes)"
   ]
  },
  {
   "cell_type": "code",
   "execution_count": null,
   "id": "b9cb0b94",
   "metadata": {},
   "outputs": [],
   "source": [
    "concatenated_df"
   ]
  },
  {
   "cell_type": "code",
   "execution_count": 80,
   "id": "68bb73b8",
   "metadata": {},
   "outputs": [],
   "source": [
    "from sklearn.model_selection import train_test_split"
   ]
  },
  {
   "cell_type": "markdown",
   "id": "c150b342",
   "metadata": {},
   "source": [
    "x_train, x_test, y_train, y_test = train_test_split(x,y,test_size = 0.20, random_state =61)"
   ]
  },
  {
   "cell_type": "markdown",
   "id": "30f04467",
   "metadata": {},
   "source": [
    "x_train"
   ]
  },
  {
   "cell_type": "markdown",
   "id": "6205ec82",
   "metadata": {},
   "source": [
    "# 3"
   ]
  },
  {
   "cell_type": "code",
   "execution_count": 79,
   "id": "6bd7147d",
   "metadata": {},
   "outputs": [],
   "source": [
    "from sklearn.feature_extraction.text import TfidfVectorizer"
   ]
  },
  {
   "cell_type": "code",
   "execution_count": 71,
   "id": "468b08ea",
   "metadata": {},
   "outputs": [],
   "source": [
    "df=pd.read_csv(\"clean.csv\")"
   ]
  },
  {
   "cell_type": "code",
   "execution_count": 72,
   "id": "03e3fe6b",
   "metadata": {},
   "outputs": [],
   "source": [
    "df=df.sample(n=500,random_state=61)"
   ]
  },
  {
   "cell_type": "code",
   "execution_count": 73,
   "id": "956daac7",
   "metadata": {},
   "outputs": [
    {
     "data": {
      "text/html": [
       "<div>\n",
       "<style scoped>\n",
       "    .dataframe tbody tr th:only-of-type {\n",
       "        vertical-align: middle;\n",
       "    }\n",
       "\n",
       "    .dataframe tbody tr th {\n",
       "        vertical-align: top;\n",
       "    }\n",
       "\n",
       "    .dataframe thead th {\n",
       "        text-align: right;\n",
       "    }\n",
       "</style>\n",
       "<table border=\"1\" class=\"dataframe\">\n",
       "  <thead>\n",
       "    <tr style=\"text-align: right;\">\n",
       "      <th></th>\n",
       "      <th>class</th>\n",
       "      <th>word</th>\n",
       "    </tr>\n",
       "  </thead>\n",
       "  <tbody>\n",
       "    <tr>\n",
       "      <th>79891</th>\n",
       "      <td>sarcasm</td>\n",
       "      <td>phil taylor released insane another great move...</td>\n",
       "    </tr>\n",
       "    <tr>\n",
       "      <th>28873</th>\n",
       "      <td>irony</td>\n",
       "      <td>balotelli set liverpool loyalty bonus ironic l...</td>\n",
       "    </tr>\n",
       "    <tr>\n",
       "      <th>6575</th>\n",
       "      <td>figurative</td>\n",
       "      <td>marc raimondi didnt want stiff came back irony</td>\n",
       "    </tr>\n",
       "    <tr>\n",
       "      <th>74924</th>\n",
       "      <td>sarcasm</td>\n",
       "      <td>bozchron clear montana getting share federal f...</td>\n",
       "    </tr>\n",
       "    <tr>\n",
       "      <th>26192</th>\n",
       "      <td>irony</td>\n",
       "      <td>missed opening gbbo baking irony</td>\n",
       "    </tr>\n",
       "    <tr>\n",
       "      <th>...</th>\n",
       "      <td>...</td>\n",
       "      <td>...</td>\n",
       "    </tr>\n",
       "    <tr>\n",
       "      <th>80958</th>\n",
       "      <td>sarcasm</td>\n",
       "      <td>wku careful show much offense conference usa o...</td>\n",
       "    </tr>\n",
       "    <tr>\n",
       "      <th>21355</th>\n",
       "      <td>irony</td>\n",
       "      <td>amazing read countless article written suppose...</td>\n",
       "    </tr>\n",
       "    <tr>\n",
       "      <th>64451</th>\n",
       "      <td>sarcasm</td>\n",
       "      <td>sarcasm good yeah right language psychology so...</td>\n",
       "    </tr>\n",
       "    <tr>\n",
       "      <th>27721</th>\n",
       "      <td>irony</td>\n",
       "      <td>irony seeing world scarcitymindset extract con...</td>\n",
       "    </tr>\n",
       "    <tr>\n",
       "      <th>19387</th>\n",
       "      <td>figurative</td>\n",
       "      <td>see pekka rinne already midseason form sarcasm</td>\n",
       "    </tr>\n",
       "  </tbody>\n",
       "</table>\n",
       "<p>500 rows × 2 columns</p>\n",
       "</div>"
      ],
      "text/plain": [
       "            class                                               word\n",
       "79891     sarcasm  phil taylor released insane another great move...\n",
       "28873       irony  balotelli set liverpool loyalty bonus ironic l...\n",
       "6575   figurative     marc raimondi didnt want stiff came back irony\n",
       "74924     sarcasm  bozchron clear montana getting share federal f...\n",
       "26192       irony                   missed opening gbbo baking irony\n",
       "...           ...                                                ...\n",
       "80958     sarcasm  wku careful show much offense conference usa o...\n",
       "21355       irony  amazing read countless article written suppose...\n",
       "64451     sarcasm  sarcasm good yeah right language psychology so...\n",
       "27721       irony  irony seeing world scarcitymindset extract con...\n",
       "19387  figurative     see pekka rinne already midseason form sarcasm\n",
       "\n",
       "[500 rows x 2 columns]"
      ]
     },
     "execution_count": 73,
     "metadata": {},
     "output_type": "execute_result"
    }
   ],
   "source": [
    "df"
   ]
  },
  {
   "cell_type": "code",
   "execution_count": 74,
   "id": "cc432573",
   "metadata": {},
   "outputs": [],
   "source": [
    "x=df[\"word\"]\n",
    "y=df[\"class\"]"
   ]
  },
  {
   "cell_type": "code",
   "execution_count": 75,
   "id": "ff44ad6c",
   "metadata": {},
   "outputs": [],
   "source": [
    "x_train, x_test, y_train, y_test = train_test_split(x,y,test_size = 0.30,random_state=21)"
   ]
  },
  {
   "cell_type": "code",
   "execution_count": 76,
   "id": "94aa0270",
   "metadata": {},
   "outputs": [
    {
     "data": {
      "text/plain": [
       "81293    well im glad ticket sunday game bluejays sarca...\n",
       "72474                           great way end trip sarcasm\n",
       "29282                                    put bolo bf irony\n",
       "49828    recycled jewelry ecoconscious collection hippi...\n",
       "80734                    gotta love little darling sarcasm\n",
       "                               ...                        \n",
       "57039    et mental tech superiority may mean moral supe...\n",
       "31864    anyone surprised bachelor contestant staged wr...\n",
       "64898    breaking ranaayyub say sharia amp quran barbar...\n",
       "29350                       reminder doublestandards irony\n",
       "33256    alabama governor called marriage equality soci...\n",
       "Name: word, Length: 350, dtype: object"
      ]
     },
     "execution_count": 76,
     "metadata": {},
     "output_type": "execute_result"
    }
   ],
   "source": [
    "x_train"
   ]
  },
  {
   "cell_type": "code",
   "execution_count": 81,
   "id": "b6dd0ab6",
   "metadata": {},
   "outputs": [
    {
     "data": {
      "text/plain": [
       "TfidfVectorizer(max_features=1000)"
      ]
     },
     "execution_count": 81,
     "metadata": {},
     "output_type": "execute_result"
    }
   ],
   "source": [
    "vectoriser = TfidfVectorizer(ngram_range=(1,1), max_features=1000)\n",
    "vectoriser.fit(x_train)"
   ]
  },
  {
   "cell_type": "code",
   "execution_count": 82,
   "id": "1a3c5e86",
   "metadata": {},
   "outputs": [],
   "source": [
    "x_train = vectoriser.transform(x_train)\n",
    "x_test  = vectoriser.transform(x_test)"
   ]
  },
  {
   "cell_type": "code",
   "execution_count": 83,
   "id": "8bc9ba4f",
   "metadata": {},
   "outputs": [],
   "source": [
    "def model_Evaluate(model):\n",
    "    y_pred = model.predict(x_test)\n",
    "    print(classification_report(y_test, y_pred))\n",
    "    cf_matrix = confusion_matrix(y_test, y_pred)\n",
    "    categories = ['figurative', 'irony', 'regular', 'sarcasm']\n",
    "\n",
    "    cm_percent = cf_matrix.astype('float') / cf_matrix.sum(axis=0)[:, np.newaxis] * 100\n",
    "    print(pd.DataFrame(cf_matrix))\n",
    "    sns.heatmap(cm_percent, annot=True,cmap = 'Blues',fmt = '.1f',\n",
    "    xticklabels = categories, yticklabels = categories)\n",
    "    plt.xlabel(\"Predicted values\", fontdict = {'size':14}, labelpad = 10)\n",
    "    plt.ylabel(\"Actual values\" , fontdict = {'size':14}, labelpad = 10)\n",
    "    plt.title (\"Confusion Matrix\", fontdict = {'size':18}, pad = 20)"
   ]
  },
  {
   "cell_type": "code",
   "execution_count": 84,
   "id": "b72a762c",
   "metadata": {},
   "outputs": [
    {
     "name": "stdout",
     "output_type": "stream",
     "text": [
      "              precision    recall  f1-score   support\n",
      "\n",
      "  figurative       0.34      0.31      0.32        39\n",
      "       irony       0.63      0.89      0.74        38\n",
      "     regular       1.00      0.64      0.78        33\n",
      "     sarcasm       0.70      0.70      0.70        40\n",
      "\n",
      "    accuracy                           0.63       150\n",
      "   macro avg       0.67      0.63      0.64       150\n",
      "weighted avg       0.66      0.63      0.63       150\n",
      "\n",
      "    0   1   2   3\n",
      "0  12  15   0  12\n",
      "1   4  34   0   0\n",
      "2   8   4  21   0\n",
      "3  11   1   0  28\n"
     ]
    },
    {
     "data": {
      "image/png": "[encoded data removed]",
      "text/plain": [
       "<Figure size 640x480 with 2 Axes>"
      ]
     },
     "metadata": {},
     "output_type": "display_data"
    }
   ],
   "source": [
    "from sklearn.naive_bayes import BernoulliNB\n",
    "from sklearn.metrics import confusion_matrix, classification_report\n",
    "BNBmodel = BernoulliNB()\n",
    "BNBmodel.fit(x_train, y_train)\n",
    "model_Evaluate(BNBmodel)\n",
    "y_pred1 = BNBmodel.predict(x_test)"
   ]
  },
  {
   "cell_type": "code",
   "execution_count": 85,
   "id": "e0dbe5c8",
   "metadata": {},
   "outputs": [],
   "source": [
    "from sklearn.ensemble import RandomForestClassifier\n",
    "from sklearn.datasets import load_iris\n",
    "from sklearn.model_selection import train_test_split\n",
    "from sklearn.metrics import accuracy_score"
   ]
  },
  {
   "cell_type": "code",
   "execution_count": 86,
   "id": "80a94ef3",
   "metadata": {},
   "outputs": [
    {
     "name": "stdout",
     "output_type": "stream",
     "text": [
      "Accuracy: 0.7333333333333333\n",
      "              precision    recall  f1-score   support\n",
      "\n",
      "  figurative       0.50      0.05      0.09        39\n",
      "       irony       0.69      0.97      0.80        38\n",
      "     regular       0.94      1.00      0.97        33\n",
      "     sarcasm       0.67      0.95      0.78        40\n",
      "\n",
      "    accuracy                           0.73       150\n",
      "   macro avg       0.70      0.74      0.66       150\n",
      "weighted avg       0.69      0.73      0.65       150\n",
      "\n",
      "   0   1   2   3\n",
      "0  2  17   1  19\n",
      "1  1  37   0   0\n",
      "2  0   0  33   0\n",
      "3  1   0   1  38\n"
     ]
    },
    {
     "data": {
      "image/png": "[encoded data removed]",
      "text/plain": [
       "<Figure size 640x480 with 2 Axes>"
      ]
     },
     "metadata": {},
     "output_type": "display_data"
    }
   ],
   "source": [
    "rf_classifier = RandomForestClassifier(n_estimators=100, random_state=21)\n",
    "\n",
    "# Train the classifier\n",
    "rf_classifier.fit(x_train, y_train)\n",
    "\n",
    "# Make predictions on the test set\n",
    "y_pred = rf_classifier.predict(x_test)\n",
    "\n",
    "# Calculate the accuracy of the classifier\n",
    "accuracy = accuracy_score(y_test, y_pred)\n",
    "print(\"Accuracy:\", accuracy)\n",
    "model_Evaluate(rf_classifier)\n",
    "\n"
   ]
  },
  {
   "cell_type": "code",
   "execution_count": 87,
   "id": "13e77dc3",
   "metadata": {},
   "outputs": [
    {
     "name": "stdout",
     "output_type": "stream",
     "text": [
      "              precision    recall  f1-score   support\n",
      "\n",
      "  figurative       0.43      0.31      0.36        39\n",
      "       irony       0.68      0.84      0.75        38\n",
      "     regular       0.97      0.97      0.97        33\n",
      "     sarcasm       0.74      0.78      0.76        40\n",
      "\n",
      "    accuracy                           0.71       150\n",
      "   macro avg       0.70      0.72      0.71       150\n",
      "weighted avg       0.69      0.71      0.70       150\n",
      "\n",
      "    0   1   2   3\n",
      "0  12  15   1  11\n",
      "1   6  32   0   0\n",
      "2   1   0  32   0\n",
      "3   9   0   0  31\n"
     ]
    },
    {
     "data": {
      "image/png": "[encoded data removed]",
      "text/plain": [
       "<Figure size 640x480 with 2 Axes>"
      ]
     },
     "metadata": {},
     "output_type": "display_data"
    }
   ],
   "source": [
    "from sklearn.svm import LinearSVC\n",
    "SVCmodel = LinearSVC()\n",
    "SVCmodel.fit(x_train, y_train)\n",
    "model_Evaluate(SVCmodel)\n",
    "y_pred2 = SVCmodel.predict(x_test)"
   ]
  },
  {
   "cell_type": "code",
   "execution_count": 88,
   "id": "cc9aa8b0",
   "metadata": {},
   "outputs": [
    {
     "name": "stdout",
     "output_type": "stream",
     "text": [
      "              precision    recall  f1-score   support\n",
      "\n",
      "  figurative       0.42      0.26      0.32        39\n",
      "       irony       0.69      0.87      0.77        38\n",
      "     regular       0.97      0.91      0.94        33\n",
      "     sarcasm       0.70      0.82      0.76        40\n",
      "\n",
      "    accuracy                           0.71       150\n",
      "   macro avg       0.69      0.71      0.70       150\n",
      "weighted avg       0.68      0.71      0.69       150\n",
      "\n",
      "    0   1   2   3\n",
      "0  10  14   1  14\n",
      "1   5  33   0   0\n",
      "2   2   1  30   0\n",
      "3   7   0   0  33\n"
     ]
    },
    {
     "data": {
      "image/png": "[encoded data removed]",
      "text/plain": [
       "<Figure size 640x480 with 2 Axes>"
      ]
     },
     "metadata": {},
     "output_type": "display_data"
    }
   ],
   "source": [
    "from sklearn.linear_model import LogisticRegression\n",
    "LRmodel = LogisticRegression(C = 2, max_iter = 1000, n_jobs=-1)\n",
    "LRmodel.fit(x_train, y_train)\n",
    "model_Evaluate(LRmodel)\n",
    "y_pred3 = LRmodel.predict(x_test)"
   ]
  },
  {
   "cell_type": "code",
   "execution_count": 89,
   "id": "223127ff",
   "metadata": {},
   "outputs": [
    {
     "name": "stdout",
     "output_type": "stream",
     "text": [
      "Accuracy: 0.7\n",
      "              precision    recall  f1-score   support\n",
      "\n",
      "  figurative       0.38      0.26      0.31        39\n",
      "       irony       0.72      0.95      0.82        38\n",
      "     regular       1.00      1.00      1.00        33\n",
      "     sarcasm       0.63      0.65      0.64        40\n",
      "\n",
      "    accuracy                           0.70       150\n",
      "   macro avg       0.68      0.71      0.69       150\n",
      "weighted avg       0.67      0.70      0.68       150\n",
      "\n",
      "    0   1   2   3\n",
      "0  10  14   0  15\n",
      "1   2  36   0   0\n",
      "2   0   0  33   0\n",
      "3  14   0   0  26\n"
     ]
    },
    {
     "data": {
      "image/png": "[encoded data removed]",
      "text/plain": [
       "<Figure size 640x480 with 2 Axes>"
      ]
     },
     "metadata": {},
     "output_type": "display_data"
    }
   ],
   "source": [
    "#DT\n",
    "from sklearn.tree import DecisionTreeClassifier\n",
    "from sklearn.model_selection import train_test_split\n",
    "from sklearn.metrics import accuracy_score\n",
    "\n",
    "# Initialize and train the Decision Tree classifier\n",
    "dt_classifier = DecisionTreeClassifier()\n",
    "dt_classifier.fit(x_train, y_train)\n",
    "\n",
    "# Make predictions on the test set\n",
    "y_pred = dt_classifier.predict(x_test)\n",
    "\n",
    "# Evaluate the accuracy of the classifier\n",
    "accuracy = accuracy_score(y_test, y_pred)\n",
    "print(\"Accuracy:\", accuracy)\n",
    "model_Evaluate(dt_classifier)\n"
   ]
  },
  {
   "cell_type": "markdown",
   "id": "9c917df0",
   "metadata": {},
   "source": [
    "# BI-GRAM"
   ]
  },
  {
   "cell_type": "code",
   "execution_count": 90,
   "id": "60452e20",
   "metadata": {},
   "outputs": [
    {
     "data": {
      "text/html": [
       "<div>\n",
       "<style scoped>\n",
       "    .dataframe tbody tr th:only-of-type {\n",
       "        vertical-align: middle;\n",
       "    }\n",
       "\n",
       "    .dataframe tbody tr th {\n",
       "        vertical-align: top;\n",
       "    }\n",
       "\n",
       "    .dataframe thead th {\n",
       "        text-align: right;\n",
       "    }\n",
       "</style>\n",
       "<table border=\"1\" class=\"dataframe\">\n",
       "  <thead>\n",
       "    <tr style=\"text-align: right;\">\n",
       "      <th></th>\n",
       "      <th>class</th>\n",
       "      <th>word</th>\n",
       "    </tr>\n",
       "  </thead>\n",
       "  <tbody>\n",
       "    <tr>\n",
       "      <th>79891</th>\n",
       "      <td>sarcasm</td>\n",
       "      <td>phil taylor released insane another great move...</td>\n",
       "    </tr>\n",
       "    <tr>\n",
       "      <th>28873</th>\n",
       "      <td>irony</td>\n",
       "      <td>balotelli set liverpool loyalty bonus ironic l...</td>\n",
       "    </tr>\n",
       "    <tr>\n",
       "      <th>6575</th>\n",
       "      <td>figurative</td>\n",
       "      <td>marc raimondi didnt want stiff came back irony</td>\n",
       "    </tr>\n",
       "    <tr>\n",
       "      <th>74924</th>\n",
       "      <td>sarcasm</td>\n",
       "      <td>bozchron clear montana getting share federal f...</td>\n",
       "    </tr>\n",
       "    <tr>\n",
       "      <th>26192</th>\n",
       "      <td>irony</td>\n",
       "      <td>missed opening gbbo baking irony</td>\n",
       "    </tr>\n",
       "    <tr>\n",
       "      <th>...</th>\n",
       "      <td>...</td>\n",
       "      <td>...</td>\n",
       "    </tr>\n",
       "    <tr>\n",
       "      <th>80958</th>\n",
       "      <td>sarcasm</td>\n",
       "      <td>wku careful show much offense conference usa o...</td>\n",
       "    </tr>\n",
       "    <tr>\n",
       "      <th>21355</th>\n",
       "      <td>irony</td>\n",
       "      <td>amazing read countless article written suppose...</td>\n",
       "    </tr>\n",
       "    <tr>\n",
       "      <th>64451</th>\n",
       "      <td>sarcasm</td>\n",
       "      <td>sarcasm good yeah right language psychology so...</td>\n",
       "    </tr>\n",
       "    <tr>\n",
       "      <th>27721</th>\n",
       "      <td>irony</td>\n",
       "      <td>irony seeing world scarcitymindset extract con...</td>\n",
       "    </tr>\n",
       "    <tr>\n",
       "      <th>19387</th>\n",
       "      <td>figurative</td>\n",
       "      <td>see pekka rinne already midseason form sarcasm</td>\n",
       "    </tr>\n",
       "  </tbody>\n",
       "</table>\n",
       "<p>500 rows × 2 columns</p>\n",
       "</div>"
      ],
      "text/plain": [
       "            class                                               word\n",
       "79891     sarcasm  phil taylor released insane another great move...\n",
       "28873       irony  balotelli set liverpool loyalty bonus ironic l...\n",
       "6575   figurative     marc raimondi didnt want stiff came back irony\n",
       "74924     sarcasm  bozchron clear montana getting share federal f...\n",
       "26192       irony                   missed opening gbbo baking irony\n",
       "...           ...                                                ...\n",
       "80958     sarcasm  wku careful show much offense conference usa o...\n",
       "21355       irony  amazing read countless article written suppose...\n",
       "64451     sarcasm  sarcasm good yeah right language psychology so...\n",
       "27721       irony  irony seeing world scarcitymindset extract con...\n",
       "19387  figurative     see pekka rinne already midseason form sarcasm\n",
       "\n",
       "[500 rows x 2 columns]"
      ]
     },
     "execution_count": 90,
     "metadata": {},
     "output_type": "execute_result"
    }
   ],
   "source": [
    "df"
   ]
  },
  {
   "cell_type": "code",
   "execution_count": 91,
   "id": "09222a6a",
   "metadata": {},
   "outputs": [],
   "source": [
    "x=df[\"word\"]\n",
    "y=df[\"class\"]"
   ]
  },
  {
   "cell_type": "code",
   "execution_count": 92,
   "id": "cca1a5ee",
   "metadata": {},
   "outputs": [],
   "source": [
    "x_train, x_test, y_train, y_test = train_test_split(x,y,test_size = 0.20, random_state =61)"
   ]
  },
  {
   "cell_type": "code",
   "execution_count": 93,
   "id": "0656dc09",
   "metadata": {},
   "outputs": [
    {
     "data": {
      "text/plain": [
       "TfidfVectorizer(max_features=1000, ngram_range=(2, 2))"
      ]
     },
     "execution_count": 93,
     "metadata": {},
     "output_type": "execute_result"
    }
   ],
   "source": [
    "vectoriser = TfidfVectorizer(ngram_range=(2,2), max_features=1000)\n",
    "vectoriser.fit(x_train)"
   ]
  },
  {
   "cell_type": "code",
   "execution_count": 94,
   "id": "c85d50ab",
   "metadata": {},
   "outputs": [],
   "source": [
    "x_train = vectoriser.transform(x_train)\n",
    "x_test  = vectoriser.transform(x_test)"
   ]
  },
  {
   "cell_type": "code",
   "execution_count": 95,
   "id": "0351c000",
   "metadata": {},
   "outputs": [],
   "source": [
    "##navie\n",
    "def model_Evaluate(model):\n",
    "    y_pred = model.predict(x_test)\n",
    "    print(classification_report(y_test, y_pred))\n",
    "    cf_matrix = confusion_matrix(y_test, y_pred)\n",
    "    categories = ['figurative', 'irony', 'regular', 'sarcasm']\n",
    "\n",
    "    cm_percent = cf_matrix.astype('float') / cf_matrix.sum(axis=0)[:, np.newaxis] * 100\n",
    "    print(pd.DataFrame(cf_matrix))\n",
    "    sns.heatmap(cm_percent, annot=True,cmap = 'Blues',fmt = '.1f',\n",
    "    xticklabels = categories, yticklabels = categories)\n",
    "    plt.xlabel(\"Predicted values\", fontdict = {'size':14}, labelpad = 10)\n",
    "    plt.ylabel(\"Actual values\" , fontdict = {'size':14}, labelpad = 10)\n",
    "    plt.title (\"Confusion Matrix\", fontdict = {'size':18}, pad = 20)\n",
    "    "
   ]
  },
  {
   "cell_type": "code",
   "execution_count": 96,
   "id": "371f978c",
   "metadata": {},
   "outputs": [
    {
     "name": "stderr",
     "output_type": "stream",
     "text": [
      "C:\\Users\\Dell\\anaconda3.1\\lib\\site-packages\\sklearn\\metrics\\_classification.py:1318: UndefinedMetricWarning: Precision and F-score are ill-defined and being set to 0.0 in labels with no predicted samples. Use `zero_division` parameter to control this behavior.\n",
      "  _warn_prf(average, modifier, msg_start, len(result))\n",
      "C:\\Users\\Dell\\anaconda3.1\\lib\\site-packages\\sklearn\\metrics\\_classification.py:1318: UndefinedMetricWarning: Precision and F-score are ill-defined and being set to 0.0 in labels with no predicted samples. Use `zero_division` parameter to control this behavior.\n",
      "  _warn_prf(average, modifier, msg_start, len(result))\n",
      "C:\\Users\\Dell\\anaconda3.1\\lib\\site-packages\\sklearn\\metrics\\_classification.py:1318: UndefinedMetricWarning: Precision and F-score are ill-defined and being set to 0.0 in labels with no predicted samples. Use `zero_division` parameter to control this behavior.\n",
      "  _warn_prf(average, modifier, msg_start, len(result))\n",
      "C:\\Users\\Dell\\AppData\\Local\\Temp\\ipykernel_12316\\2244724716.py:8: RuntimeWarning: divide by zero encountered in true_divide\n",
      "  cm_percent = cf_matrix.astype('float') / cf_matrix.sum(axis=0)[:, np.newaxis] * 100\n",
      "C:\\Users\\Dell\\AppData\\Local\\Temp\\ipykernel_12316\\2244724716.py:8: RuntimeWarning: invalid value encountered in true_divide\n",
      "  cm_percent = cf_matrix.astype('float') / cf_matrix.sum(axis=0)[:, np.newaxis] * 100\n"
     ]
    },
    {
     "name": "stdout",
     "output_type": "stream",
     "text": [
      "              precision    recall  f1-score   support\n",
      "\n",
      "  figurative       0.00      0.00      0.00        32\n",
      "       irony       0.25      1.00      0.40        24\n",
      "     regular       1.00      0.05      0.09        21\n",
      "     sarcasm       1.00      0.13      0.23        23\n",
      "\n",
      "    accuracy                           0.28       100\n",
      "   macro avg       0.56      0.29      0.18       100\n",
      "weighted avg       0.50      0.28      0.17       100\n",
      "\n",
      "   0   1  2  3\n",
      "0  0  32  0  0\n",
      "1  0  24  0  0\n",
      "2  0  20  1  0\n",
      "3  0  20  0  3\n"
     ]
    },
    {
     "data": {
      "image/png": "[encoded data removed]",
      "text/plain": [
       "<Figure size 640x480 with 2 Axes>"
      ]
     },
     "metadata": {},
     "output_type": "display_data"
    }
   ],
   "source": [
    "from sklearn.naive_bayes import BernoulliNB\n",
    "from sklearn.metrics import confusion_matrix, classification_report\n",
    "BNBmodel = BernoulliNB()\n",
    "BNBmodel.fit(x_train, y_train)\n",
    "model_Evaluate(BNBmodel)\n",
    "y_pred1 = BNBmodel.predict(x_test)"
   ]
  },
  {
   "cell_type": "code",
   "execution_count": 97,
   "id": "08897866",
   "metadata": {},
   "outputs": [
    {
     "name": "stdout",
     "output_type": "stream",
     "text": [
      "Accuracy: 0.27\n",
      "              precision    recall  f1-score   support\n",
      "\n",
      "  figurative       1.00      0.03      0.06        32\n",
      "       irony       1.00      0.04      0.08        24\n",
      "     regular       1.00      0.10      0.17        21\n",
      "     sarcasm       0.24      1.00      0.39        23\n",
      "\n",
      "    accuracy                           0.27       100\n",
      "   macro avg       0.81      0.29      0.18       100\n",
      "weighted avg       0.83      0.27      0.16       100\n",
      "\n",
      "   0  1  2   3\n",
      "0  1  0  0  31\n",
      "1  0  1  0  23\n",
      "2  0  0  2  19\n",
      "3  0  0  0  23\n"
     ]
    },
    {
     "data": {
      "image/png": "[encoded data removed]",
      "text/plain": [
       "<Figure size 640x480 with 2 Axes>"
      ]
     },
     "metadata": {},
     "output_type": "display_data"
    }
   ],
   "source": [
    "from sklearn.ensemble import RandomForestClassifier\n",
    "from sklearn.datasets import load_iris\n",
    "from sklearn.model_selection import train_test_split\n",
    "from sklearn.metrics import accuracy_score\n",
    "rf_classifier = RandomForestClassifier(n_estimators=100, random_state=21)\n",
    "\n",
    "# Train the classifier\n",
    "rf_classifier.fit(x_train, y_train)\n",
    "\n",
    "# Make predictions on the test set\n",
    "y_pred = rf_classifier.predict(x_test)\n",
    "\n",
    "# Calculate the accuracy of the classifier\n",
    "accuracy = accuracy_score(y_test, y_pred)\n",
    "print(\"Accuracy:\", accuracy)\n",
    "model_Evaluate(rf_classifier)\n",
    "\n"
   ]
  },
  {
   "cell_type": "markdown",
   "id": "50cf8209",
   "metadata": {},
   "source": [
    "# Unigram "
   ]
  },
  {
   "cell_type": "code",
   "execution_count": 98,
   "id": "dc78621c",
   "metadata": {},
   "outputs": [
    {
     "data": {
      "text/html": [
       "<div>\n",
       "<style scoped>\n",
       "    .dataframe tbody tr th:only-of-type {\n",
       "        vertical-align: middle;\n",
       "    }\n",
       "\n",
       "    .dataframe tbody tr th {\n",
       "        vertical-align: top;\n",
       "    }\n",
       "\n",
       "    .dataframe thead th {\n",
       "        text-align: right;\n",
       "    }\n",
       "</style>\n",
       "<table border=\"1\" class=\"dataframe\">\n",
       "  <thead>\n",
       "    <tr style=\"text-align: right;\">\n",
       "      <th></th>\n",
       "      <th>class</th>\n",
       "      <th>word</th>\n",
       "    </tr>\n",
       "  </thead>\n",
       "  <tbody>\n",
       "    <tr>\n",
       "      <th>79891</th>\n",
       "      <td>sarcasm</td>\n",
       "      <td>phil taylor released insane another great move...</td>\n",
       "    </tr>\n",
       "    <tr>\n",
       "      <th>28873</th>\n",
       "      <td>irony</td>\n",
       "      <td>balotelli set liverpool loyalty bonus ironic l...</td>\n",
       "    </tr>\n",
       "    <tr>\n",
       "      <th>6575</th>\n",
       "      <td>figurative</td>\n",
       "      <td>marc raimondi didnt want stiff came back irony</td>\n",
       "    </tr>\n",
       "    <tr>\n",
       "      <th>74924</th>\n",
       "      <td>sarcasm</td>\n",
       "      <td>bozchron clear montana getting share federal f...</td>\n",
       "    </tr>\n",
       "    <tr>\n",
       "      <th>26192</th>\n",
       "      <td>irony</td>\n",
       "      <td>missed opening gbbo baking irony</td>\n",
       "    </tr>\n",
       "    <tr>\n",
       "      <th>...</th>\n",
       "      <td>...</td>\n",
       "      <td>...</td>\n",
       "    </tr>\n",
       "    <tr>\n",
       "      <th>80958</th>\n",
       "      <td>sarcasm</td>\n",
       "      <td>wku careful show much offense conference usa o...</td>\n",
       "    </tr>\n",
       "    <tr>\n",
       "      <th>21355</th>\n",
       "      <td>irony</td>\n",
       "      <td>amazing read countless article written suppose...</td>\n",
       "    </tr>\n",
       "    <tr>\n",
       "      <th>64451</th>\n",
       "      <td>sarcasm</td>\n",
       "      <td>sarcasm good yeah right language psychology so...</td>\n",
       "    </tr>\n",
       "    <tr>\n",
       "      <th>27721</th>\n",
       "      <td>irony</td>\n",
       "      <td>irony seeing world scarcitymindset extract con...</td>\n",
       "    </tr>\n",
       "    <tr>\n",
       "      <th>19387</th>\n",
       "      <td>figurative</td>\n",
       "      <td>see pekka rinne already midseason form sarcasm</td>\n",
       "    </tr>\n",
       "  </tbody>\n",
       "</table>\n",
       "<p>500 rows × 2 columns</p>\n",
       "</div>"
      ],
      "text/plain": [
       "            class                                               word\n",
       "79891     sarcasm  phil taylor released insane another great move...\n",
       "28873       irony  balotelli set liverpool loyalty bonus ironic l...\n",
       "6575   figurative     marc raimondi didnt want stiff came back irony\n",
       "74924     sarcasm  bozchron clear montana getting share federal f...\n",
       "26192       irony                   missed opening gbbo baking irony\n",
       "...           ...                                                ...\n",
       "80958     sarcasm  wku careful show much offense conference usa o...\n",
       "21355       irony  amazing read countless article written suppose...\n",
       "64451     sarcasm  sarcasm good yeah right language psychology so...\n",
       "27721       irony  irony seeing world scarcitymindset extract con...\n",
       "19387  figurative     see pekka rinne already midseason form sarcasm\n",
       "\n",
       "[500 rows x 2 columns]"
      ]
     },
     "execution_count": 98,
     "metadata": {},
     "output_type": "execute_result"
    }
   ],
   "source": [
    "df"
   ]
  },
  {
   "cell_type": "code",
   "execution_count": 99,
   "id": "ab55431b",
   "metadata": {},
   "outputs": [],
   "source": [
    "unigram=df[\"word\"].values.tolist()"
   ]
  },
  {
   "cell_type": "code",
   "execution_count": 100,
   "id": "c4471bba",
   "metadata": {},
   "outputs": [],
   "source": [
    "def unigram_code(text):\n",
    "    unigrams = list(text)\n",
    "    code = {}\n",
    "    for i, unigram in enumerate(unigrams):\n",
    "        code[unigram] = i + 1  # Assign a unique code to each unigram\n",
    "    return code"
   ]
  },
  {
   "cell_type": "code",
   "execution_count": 101,
   "id": "547a5e66",
   "metadata": {},
   "outputs": [],
   "source": [
    "from nltk.tokenize import word_tokenize,sent_tokenize"
   ]
  },
  {
   "cell_type": "code",
   "execution_count": 102,
   "id": "e109d18f",
   "metadata": {},
   "outputs": [],
   "source": [
    "unigram=df[\"word\"].apply(word_tokenize).apply(unigram_code)"
   ]
  },
  {
   "cell_type": "code",
   "execution_count": 103,
   "id": "7534d077",
   "metadata": {},
   "outputs": [
    {
     "data": {
      "text/plain": [
       "79891    {'phil': 1, 'taylor': 2, 'released': 3, 'insan...\n",
       "28873    {'balotelli': 1, 'set': 2, 'liverpool': 7, 'lo...\n",
       "6575     {'marc': 1, 'raimondi': 2, 'didnt': 3, 'want':...\n",
       "74924    {'bozchron': 1, 'clear': 2, 'montana': 3, 'get...\n",
       "26192    {'missed': 1, 'opening': 2, 'gbbo': 3, 'baking...\n",
       "                               ...                        \n",
       "80958    {'wku': 1, 'careful': 2, 'show': 3, 'much': 4,...\n",
       "21355    {'amazing': 1, 'read': 2, 'countless': 3, 'art...\n",
       "64451    {'sarcasm': 1, 'good': 2, 'yeah': 3, 'right': ...\n",
       "27721    {'irony': 1, 'seeing': 2, 'world': 3, 'scarcit...\n",
       "19387    {'see': 1, 'pekka': 2, 'rinne': 3, 'already': ...\n",
       "Name: word, Length: 500, dtype: object"
      ]
     },
     "execution_count": 103,
     "metadata": {},
     "output_type": "execute_result"
    }
   ],
   "source": [
    "unigram"
   ]
  },
  {
   "cell_type": "markdown",
   "id": "9e6e6d5f",
   "metadata": {},
   "source": [
    "# Bi-gram"
   ]
  },
  {
   "cell_type": "code",
   "execution_count": 104,
   "id": "0924c91f",
   "metadata": {},
   "outputs": [],
   "source": [
    "def bigram_code(text):\n",
    "    bigrams = [text[i:i+2] for i in range(len(text) - 1)]\n",
    "    code = {}\n",
    "    for i, bigram in enumerate(bigrams):\n",
    "        code[bigram] = i + 1 \n",
    "    return code"
   ]
  },
  {
   "cell_type": "code",
   "execution_count": 105,
   "id": "f2a3c6c0",
   "metadata": {},
   "outputs": [],
   "source": [
    "bigram=df[\"word\"].apply(bigram_code)"
   ]
  },
  {
   "cell_type": "code",
   "execution_count": 106,
   "id": "3318031b",
   "metadata": {},
   "outputs": [
    {
     "data": {
      "text/plain": [
       "79891    {'ph': 1, 'hi': 2, 'il': 3, 'l ': 4, ' t': 5, ...\n",
       "28873    {'ba': 1, 'al': 28, 'lo': 25, 'ot': 4, 'te': 5...\n",
       "6575     {'ma': 1, 'ar': 2, 'rc': 3, 'c ': 4, ' r': 5, ...\n",
       "74924    {'bo': 1, 'oz': 2, 'zc': 3, 'ch': 4, 'hr': 5, ...\n",
       "26192    {'mi': 1, 'is': 2, 'ss': 3, 'se': 4, 'ed': 5, ...\n",
       "                               ...                        \n",
       "80958    {'wk': 1, 'ku': 2, 'u ': 3, ' c': 30, 'ca': 58...\n",
       "21355    {'am': 1, 'ma': 89, 'az': 3, 'zi': 4, 'in': 5,...\n",
       "64451    {'sa': 1, 'ar': 76, 'rc': 3, 'ca': 4, 'as': 5,...\n",
       "27721    {'ir': 1, 'ro': 2, 'on': 45, 'ny': 4, 'y ': 5,...\n",
       "19387    {'se': 28, 'ee': 2, 'e ': 15, ' p': 4, 'pe': 5...\n",
       "Name: word, Length: 500, dtype: object"
      ]
     },
     "execution_count": 106,
     "metadata": {},
     "output_type": "execute_result"
    }
   ],
   "source": [
    "bigram"
   ]
  },
  {
   "cell_type": "markdown",
   "id": "8c141053",
   "metadata": {},
   "source": [
    "# Word embbeding"
   ]
  },
  {
   "cell_type": "code",
   "execution_count": 107,
   "id": "c1fd0d38",
   "metadata": {},
   "outputs": [
    {
     "name": "stdout",
     "output_type": "stream",
     "text": [
      "Requirement already satisfied: gensim in c:\\users\\dell\\anaconda3.1\\lib\\site-packages (4.1.2)\n",
      "Requirement already satisfied: scipy>=0.18.1 in c:\\users\\dell\\anaconda3.1\\lib\\site-packages (from gensim) (1.9.1)\n",
      "Requirement already satisfied: smart-open>=1.8.1 in c:\\users\\dell\\anaconda3.1\\lib\\site-packages (from gensim) (5.2.1)\n",
      "Requirement already satisfied: numpy>=1.17.0 in c:\\users\\dell\\anaconda3.1\\lib\\site-packages (from gensim) (1.21.5)\n"
     ]
    }
   ],
   "source": [
    "!pip install gensim"
   ]
  },
  {
   "cell_type": "code",
   "execution_count": 108,
   "id": "bee4c7cc",
   "metadata": {},
   "outputs": [],
   "source": [
    "import gensim \n",
    "import os"
   ]
  },
  {
   "cell_type": "code",
   "execution_count": 69,
   "id": "c296d351",
   "metadata": {},
   "outputs": [
    {
     "data": {
      "text/html": [
       "<div>\n",
       "<style scoped>\n",
       "    .dataframe tbody tr th:only-of-type {\n",
       "        vertical-align: middle;\n",
       "    }\n",
       "\n",
       "    .dataframe tbody tr th {\n",
       "        vertical-align: top;\n",
       "    }\n",
       "\n",
       "    .dataframe thead th {\n",
       "        text-align: right;\n",
       "    }\n",
       "</style>\n",
       "<table border=\"1\" class=\"dataframe\">\n",
       "  <thead>\n",
       "    <tr style=\"text-align: right;\">\n",
       "      <th></th>\n",
       "      <th>class</th>\n",
       "      <th>words</th>\n",
       "    </tr>\n",
       "  </thead>\n",
       "  <tbody>\n",
       "    <tr>\n",
       "      <th>0</th>\n",
       "      <td>figurative</td>\n",
       "      <td>aware</td>\n",
       "    </tr>\n",
       "    <tr>\n",
       "      <th>1</th>\n",
       "      <td>figurative</td>\n",
       "      <td>dirty</td>\n",
       "    </tr>\n",
       "    <tr>\n",
       "      <th>2</th>\n",
       "      <td>figurative</td>\n",
       "      <td>step</td>\n",
       "    </tr>\n",
       "    <tr>\n",
       "      <th>3</th>\n",
       "      <td>figurative</td>\n",
       "      <td>get</td>\n",
       "    </tr>\n",
       "    <tr>\n",
       "      <th>4</th>\n",
       "      <td>figurative</td>\n",
       "      <td>money</td>\n",
       "    </tr>\n",
       "    <tr>\n",
       "      <th>...</th>\n",
       "      <td>...</td>\n",
       "      <td>...</td>\n",
       "    </tr>\n",
       "    <tr>\n",
       "      <th>776197</th>\n",
       "      <td>sarcasm</td>\n",
       "      <td>wont</td>\n",
       "    </tr>\n",
       "    <tr>\n",
       "      <th>776198</th>\n",
       "      <td>sarcasm</td>\n",
       "      <td>believe</td>\n",
       "    </tr>\n",
       "    <tr>\n",
       "      <th>776199</th>\n",
       "      <td>sarcasm</td>\n",
       "      <td>see</td>\n",
       "    </tr>\n",
       "    <tr>\n",
       "      <th>776200</th>\n",
       "      <td>sarcasm</td>\n",
       "      <td>p</td>\n",
       "    </tr>\n",
       "    <tr>\n",
       "      <th>776201</th>\n",
       "      <td>sarcasm</td>\n",
       "      <td>sarcasm</td>\n",
       "    </tr>\n",
       "  </tbody>\n",
       "</table>\n",
       "<p>776202 rows × 2 columns</p>\n",
       "</div>"
      ],
      "text/plain": [
       "             class    words\n",
       "0       figurative    aware\n",
       "1       figurative    dirty\n",
       "2       figurative     step\n",
       "3       figurative      get\n",
       "4       figurative    money\n",
       "...            ...      ...\n",
       "776197     sarcasm     wont\n",
       "776198     sarcasm  believe\n",
       "776199     sarcasm      see\n",
       "776200     sarcasm        p\n",
       "776201     sarcasm  sarcasm\n",
       "\n",
       "[776202 rows x 2 columns]"
      ]
     },
     "execution_count": 69,
     "metadata": {},
     "output_type": "execute_result"
    }
   ],
   "source": [
    "df"
   ]
  },
  {
   "cell_type": "code",
   "execution_count": 70,
   "id": "abdaf142",
   "metadata": {},
   "outputs": [
    {
     "ename": "KeyError",
     "evalue": "'word'",
     "output_type": "error",
     "traceback": [
      "\u001b[1;31m---------------------------------------------------------------------------\u001b[0m",
      "\u001b[1;31mKeyError\u001b[0m                                  Traceback (most recent call last)",
      "\u001b[1;32m~\\anaconda3.1\\lib\\site-packages\\pandas\\core\\indexes\\base.py\u001b[0m in \u001b[0;36mget_loc\u001b[1;34m(self, key, method, tolerance)\u001b[0m\n\u001b[0;32m   3628\u001b[0m             \u001b[1;32mtry\u001b[0m\u001b[1;33m:\u001b[0m\u001b[1;33m\u001b[0m\u001b[1;33m\u001b[0m\u001b[0m\n\u001b[1;32m-> 3629\u001b[1;33m                 \u001b[1;32mreturn\u001b[0m \u001b[0mself\u001b[0m\u001b[1;33m.\u001b[0m\u001b[0m_engine\u001b[0m\u001b[1;33m.\u001b[0m\u001b[0mget_loc\u001b[0m\u001b[1;33m(\u001b[0m\u001b[0mcasted_key\u001b[0m\u001b[1;33m)\u001b[0m\u001b[1;33m\u001b[0m\u001b[1;33m\u001b[0m\u001b[0m\n\u001b[0m\u001b[0;32m   3630\u001b[0m             \u001b[1;32mexcept\u001b[0m \u001b[0mKeyError\u001b[0m \u001b[1;32mas\u001b[0m \u001b[0merr\u001b[0m\u001b[1;33m:\u001b[0m\u001b[1;33m\u001b[0m\u001b[1;33m\u001b[0m\u001b[0m\n",
      "\u001b[1;32m~\\anaconda3.1\\lib\\site-packages\\pandas\\_libs\\index.pyx\u001b[0m in \u001b[0;36mpandas._libs.index.IndexEngine.get_loc\u001b[1;34m()\u001b[0m\n",
      "\u001b[1;32m~\\anaconda3.1\\lib\\site-packages\\pandas\\_libs\\index.pyx\u001b[0m in \u001b[0;36mpandas._libs.index.IndexEngine.get_loc\u001b[1;34m()\u001b[0m\n",
      "\u001b[1;32mpandas\\_libs\\hashtable_class_helper.pxi\u001b[0m in \u001b[0;36mpandas._libs.hashtable.PyObjectHashTable.get_item\u001b[1;34m()\u001b[0m\n",
      "\u001b[1;32mpandas\\_libs\\hashtable_class_helper.pxi\u001b[0m in \u001b[0;36mpandas._libs.hashtable.PyObjectHashTable.get_item\u001b[1;34m()\u001b[0m\n",
      "\u001b[1;31mKeyError\u001b[0m: 'word'",
      "\nThe above exception was the direct cause of the following exception:\n",
      "\u001b[1;31mKeyError\u001b[0m                                  Traceback (most recent call last)",
      "\u001b[1;32m~\\AppData\\Local\\Temp\\ipykernel_12316\\2780829609.py\u001b[0m in \u001b[0;36m<module>\u001b[1;34m\u001b[0m\n\u001b[1;32m----> 1\u001b[1;33m \u001b[0mx\u001b[0m\u001b[1;33m=\u001b[0m\u001b[0mdf\u001b[0m\u001b[1;33m[\u001b[0m\u001b[1;34m\"word\"\u001b[0m\u001b[1;33m]\u001b[0m\u001b[1;33m\u001b[0m\u001b[1;33m\u001b[0m\u001b[0m\n\u001b[0m\u001b[0;32m      2\u001b[0m \u001b[0my\u001b[0m\u001b[1;33m=\u001b[0m\u001b[0mdf\u001b[0m\u001b[1;33m[\u001b[0m\u001b[1;34m\"class\"\u001b[0m\u001b[1;33m]\u001b[0m\u001b[1;33m\u001b[0m\u001b[1;33m\u001b[0m\u001b[0m\n",
      "\u001b[1;32m~\\anaconda3.1\\lib\\site-packages\\pandas\\core\\frame.py\u001b[0m in \u001b[0;36m__getitem__\u001b[1;34m(self, key)\u001b[0m\n\u001b[0;32m   3503\u001b[0m             \u001b[1;32mif\u001b[0m \u001b[0mself\u001b[0m\u001b[1;33m.\u001b[0m\u001b[0mcolumns\u001b[0m\u001b[1;33m.\u001b[0m\u001b[0mnlevels\u001b[0m \u001b[1;33m>\u001b[0m \u001b[1;36m1\u001b[0m\u001b[1;33m:\u001b[0m\u001b[1;33m\u001b[0m\u001b[1;33m\u001b[0m\u001b[0m\n\u001b[0;32m   3504\u001b[0m                 \u001b[1;32mreturn\u001b[0m \u001b[0mself\u001b[0m\u001b[1;33m.\u001b[0m\u001b[0m_getitem_multilevel\u001b[0m\u001b[1;33m(\u001b[0m\u001b[0mkey\u001b[0m\u001b[1;33m)\u001b[0m\u001b[1;33m\u001b[0m\u001b[1;33m\u001b[0m\u001b[0m\n\u001b[1;32m-> 3505\u001b[1;33m             \u001b[0mindexer\u001b[0m \u001b[1;33m=\u001b[0m \u001b[0mself\u001b[0m\u001b[1;33m.\u001b[0m\u001b[0mcolumns\u001b[0m\u001b[1;33m.\u001b[0m\u001b[0mget_loc\u001b[0m\u001b[1;33m(\u001b[0m\u001b[0mkey\u001b[0m\u001b[1;33m)\u001b[0m\u001b[1;33m\u001b[0m\u001b[1;33m\u001b[0m\u001b[0m\n\u001b[0m\u001b[0;32m   3506\u001b[0m             \u001b[1;32mif\u001b[0m \u001b[0mis_integer\u001b[0m\u001b[1;33m(\u001b[0m\u001b[0mindexer\u001b[0m\u001b[1;33m)\u001b[0m\u001b[1;33m:\u001b[0m\u001b[1;33m\u001b[0m\u001b[1;33m\u001b[0m\u001b[0m\n\u001b[0;32m   3507\u001b[0m                 \u001b[0mindexer\u001b[0m \u001b[1;33m=\u001b[0m \u001b[1;33m[\u001b[0m\u001b[0mindexer\u001b[0m\u001b[1;33m]\u001b[0m\u001b[1;33m\u001b[0m\u001b[1;33m\u001b[0m\u001b[0m\n",
      "\u001b[1;32m~\\anaconda3.1\\lib\\site-packages\\pandas\\core\\indexes\\base.py\u001b[0m in \u001b[0;36mget_loc\u001b[1;34m(self, key, method, tolerance)\u001b[0m\n\u001b[0;32m   3629\u001b[0m                 \u001b[1;32mreturn\u001b[0m \u001b[0mself\u001b[0m\u001b[1;33m.\u001b[0m\u001b[0m_engine\u001b[0m\u001b[1;33m.\u001b[0m\u001b[0mget_loc\u001b[0m\u001b[1;33m(\u001b[0m\u001b[0mcasted_key\u001b[0m\u001b[1;33m)\u001b[0m\u001b[1;33m\u001b[0m\u001b[1;33m\u001b[0m\u001b[0m\n\u001b[0;32m   3630\u001b[0m             \u001b[1;32mexcept\u001b[0m \u001b[0mKeyError\u001b[0m \u001b[1;32mas\u001b[0m \u001b[0merr\u001b[0m\u001b[1;33m:\u001b[0m\u001b[1;33m\u001b[0m\u001b[1;33m\u001b[0m\u001b[0m\n\u001b[1;32m-> 3631\u001b[1;33m                 \u001b[1;32mraise\u001b[0m \u001b[0mKeyError\u001b[0m\u001b[1;33m(\u001b[0m\u001b[0mkey\u001b[0m\u001b[1;33m)\u001b[0m \u001b[1;32mfrom\u001b[0m \u001b[0merr\u001b[0m\u001b[1;33m\u001b[0m\u001b[1;33m\u001b[0m\u001b[0m\n\u001b[0m\u001b[0;32m   3632\u001b[0m             \u001b[1;32mexcept\u001b[0m \u001b[0mTypeError\u001b[0m\u001b[1;33m:\u001b[0m\u001b[1;33m\u001b[0m\u001b[1;33m\u001b[0m\u001b[0m\n\u001b[0;32m   3633\u001b[0m                 \u001b[1;31m# If we have a listlike key, _check_indexing_error will raise\u001b[0m\u001b[1;33m\u001b[0m\u001b[1;33m\u001b[0m\u001b[0m\n",
      "\u001b[1;31mKeyError\u001b[0m: 'word'"
     ]
    }
   ],
   "source": [
    "x=df[\"word\"]\n",
    "y=df[\"class\"]"
   ]
  },
  {
   "cell_type": "code",
   "execution_count": null,
   "id": "59cec9cd",
   "metadata": {},
   "outputs": [],
   "source": [
    "x_train,x_test,y_train,y_test= train_test_split(x,y,test_size = 0.30,random_state=21)"
   ]
  },
  {
   "cell_type": "code",
   "execution_count": null,
   "id": "b3dae23d",
   "metadata": {},
   "outputs": [],
   "source": [
    "x_train=x_train.to_list()\n",
    "x_test=x_test.to_list()"
   ]
  },
  {
   "cell_type": "code",
   "execution_count": null,
   "id": "cf5a4852",
   "metadata": {},
   "outputs": [],
   "source": [
    "x_train"
   ]
  },
  {
   "cell_type": "code",
   "execution_count": null,
   "id": "57afaa03",
   "metadata": {},
   "outputs": [],
   "source": [
    "model = gensim.models.Word2Vec (x_train, window=10, min_count=2, workers=10)\n",
    "model.train(x_train,total_examples=len(x_train),epochs=10)"
   ]
  },
  {
   "cell_type": "code",
   "execution_count": null,
   "id": "da4b1960",
   "metadata": {},
   "outputs": [],
   "source": [
    "model = gensim.models.Word2Vec (x_test, window=10, min_count=2, workers=10)\n",
    "model.train(x_test,total_examples=len(x_test),epochs=10)"
   ]
  },
  {
   "cell_type": "code",
   "execution_count": null,
   "id": "cb3b99b4",
   "metadata": {},
   "outputs": [],
   "source": [
    "model.build_vocab(x_train)"
   ]
  },
  {
   "cell_type": "code",
   "execution_count": null,
   "id": "c06e4189",
   "metadata": {},
   "outputs": [],
   "source": [
    "def model_Evaluate(model):\n",
    "    y_pred = model.predict(x_test)\n",
    "    print(classification_report(y_test, y_pred))\n",
    "    cf_matrix = confusion_matrix(y_test, y_pred)\n",
    "    categories = ['figurative', 'irony', 'regular', 'sarcasm']\n",
    "\n",
    "    cm_percent = cf_matrix.astype('float') / cf_matrix.sum(axis=0)[:, np.newaxis] * 100\n",
    "    print(pd.DataFrame(cf_matrix))\n",
    "    sns.heatmap(cm_percent, annot=True,cmap = 'Blues',fmt = '.1f',\n",
    "    xticklabels = categories, yticklabels = categories)\n",
    "    plt.xlabel(\"Predicted values\", fontdict = {'size':14}, labelpad = 10)\n",
    "    plt.ylabel(\"Actual values\" , fontdict = {'size':14}, labelpad = 10)\n",
    "    plt.title (\"Confusion Matrix\", fontdict = {'size':18}, pad = 20)\n",
    "    \n"
   ]
  },
  {
   "cell_type": "code",
   "execution_count": null,
   "id": "accb9fd7",
   "metadata": {},
   "outputs": [],
   "source": [
    "df"
   ]
  },
  {
   "cell_type": "code",
   "execution_count": null,
   "id": "2a4fd640",
   "metadata": {},
   "outputs": [],
   "source": [
    "text=df[\"word\"].to_list()"
   ]
  },
  {
   "cell_type": "code",
   "execution_count": null,
   "id": "3900fdeb",
   "metadata": {},
   "outputs": [],
   "source": [
    "model = gensim.models.Word2Vec (text, window=10, min_count=2, workers=10)\n",
    "model.train(text,total_examples=len(text),epochs=10)"
   ]
  },
  {
   "cell_type": "code",
   "execution_count": null,
   "id": "a7243ecf",
   "metadata": {},
   "outputs": [],
   "source": [
    "all_word_vectors = model.wv\n",
    "\n",
    "word_vector_matrix = all_word_vectors.vectors\n",
    "\n",
    "print(f\"Shape of word vector matrix: {word_vector_matrix.shape}\")\n",
    "\n",
    "for word, vector in zip(all_word_vectors.index_to_key, word_vector_matrix):\n",
    "    print(f\"Word: {word}, Vector: {vector}\")"
   ]
  },
  {
   "cell_type": "code",
   "execution_count": null,
   "id": "d50e3e9b",
   "metadata": {},
   "outputs": [],
   "source": [
    "x=df[\"word\"]\n",
    "y=df[\"class\"]"
   ]
  },
  {
   "cell_type": "code",
   "execution_count": null,
   "id": "dde57542",
   "metadata": {},
   "outputs": [],
   "source": [
    "x_train,x_test,y_train,y_test= train_test_split(x,y,test_size = 0.30,random_state=21)"
   ]
  },
  {
   "cell_type": "code",
   "execution_count": null,
   "id": "0640071d",
   "metadata": {},
   "outputs": [],
   "source": [
    "x_train\n",
    "x_test"
   ]
  },
  {
   "cell_type": "code",
   "execution_count": null,
   "id": "583f84db",
   "metadata": {},
   "outputs": [],
   "source": [
    "x_train"
   ]
  },
  {
   "cell_type": "code",
   "execution_count": null,
   "id": "58cacd98",
   "metadata": {},
   "outputs": [],
   "source": [
    "model1 = gensim.models.Word2Vec(x_train, window=10, min_count=2, workers=10)\n",
    "model1.train(x_train,total_examples=len(x_train),epochs=10)"
   ]
  },
  {
   "cell_type": "code",
   "execution_count": null,
   "id": "29a30c16",
   "metadata": {},
   "outputs": [],
   "source": [
    "all_word_vectors = model1.wv\n",
    "\n",
    "word_vector_matrix = all_word_vectors.vectors\n",
    "\n",
    "print(f\"Shape of word vector matrix: {word_vector_matrix.shape}\")\n",
    "\n",
    "for word, vector in zip(all_word_vectors.index_to_key, word_vector_matrix):\n",
    "    print(f\"Word: {word}, Vector: {vector}\")"
   ]
  },
  {
   "cell_type": "code",
   "execution_count": null,
   "id": "dfd97857",
   "metadata": {},
   "outputs": [],
   "source": [
    "x_train=vector.reshape(-1, 1)"
   ]
  },
  {
   "cell_type": "code",
   "execution_count": null,
   "id": "2e435a1b",
   "metadata": {},
   "outputs": [],
   "source": [
    "model2 = gensim.models.Word2Vec(x_test, window=10, min_count=2, workers=10)\n",
    "model2.train(x_test,total_examples=len(x_test),epochs=10)"
   ]
  },
  {
   "cell_type": "code",
   "execution_count": null,
   "id": "e4318f19",
   "metadata": {},
   "outputs": [],
   "source": [
    "all_word_vectors = model2.wv\n",
    "\n",
    "word_vector_matrix = all_word_vectors.vectors\n",
    "\n",
    "print(f\"Shape of word vector matrix: {word_vector_matrix.shape}\")\n",
    "\n",
    "for word, vector1 in zip(all_word_vectors.index_to_key, word_vector_matrix):\n",
    "    print(f\"Word: {word}, Vector: {vector1}\")"
   ]
  },
  {
   "cell_type": "code",
   "execution_count": null,
   "id": "8c2147d5",
   "metadata": {},
   "outputs": [],
   "source": [
    "x_test=vector1.reshape(-1, 1)"
   ]
  },
  {
   "cell_type": "code",
   "execution_count": null,
   "id": "7ec5cf1b",
   "metadata": {},
   "outputs": [],
   "source": [
    "def model_Evaluate(model):\n",
    "    y_pred = model.predict(x_test)\n",
    "    print(classification_report(y_test, y_pred))\n",
    "    cf_matrix = confusion_matrix(y_test, y_pred)\n",
    "    categories = ['figurative', 'irony', 'regular', 'sarcasm']\n",
    "\n",
    "    cm_percent = cf_matrix.astype('float') / cf_matrix.sum(axis=0)[:, np.newaxis] * 100\n",
    "    print(pd.DataFrame(cf_matrix))\n",
    "    sns.heatmap(cm_percent, annot=True,cmap = 'Blues',fmt = '.1f',\n",
    "    xticklabels = categories, yticklabels = categories)\n",
    "    plt.xlabel(\"Predicted values\", fontdict = {'size':14}, labelpad = 10)\n",
    "    plt.ylabel(\"Actual values\" , fontdict = {'size':14}, labelpad = 10)\n",
    "    plt.title (\"Confusion Matrix\", fontdict = {'size':18}, pad = 20)"
   ]
  },
  {
   "cell_type": "code",
   "execution_count": null,
   "id": "7daf55d7",
   "metadata": {},
   "outputs": [],
   "source": [
    "from sklearn.naive_bayes import BernoulliNB\n",
    "from sklearn.metrics import confusion_matrix, classification_report\n",
    "BNBmodel = BernoulliNB()\n",
    "BNBmodel.fit(x_train, y_train)\n",
    "model_Evaluate(BNBmodel)\n",
    "y_pred1 = BNBmodel.predict(x_test)"
   ]
  },
  {
   "cell_type": "code",
   "execution_count": null,
   "id": "99580ef9",
   "metadata": {},
   "outputs": [],
   "source": [
    "len(x_train)"
   ]
  },
  {
   "cell_type": "code",
   "execution_count": null,
   "id": "9e70303c",
   "metadata": {},
   "outputs": [],
   "source": [
    "data_length = len(x_train)\n",
    "\n",
    "# Determine the split point\n",
    "split_point = data_length // 2  # Integer division to get an even split\n",
    "\n",
    "# Split the data into two vectors\n",
    "x_train_1 = x_train[:split_point]\n",
    "x_train_2 = x_train[split_point:]\n",
    "y_train_1 = y_train[:split_point]\n",
    "y_train_2 = y_train[split_point:]"
   ]
  },
  {
   "cell_type": "code",
   "execution_count": null,
   "id": "476ecf01",
   "metadata": {},
   "outputs": [],
   "source": [
    "x_train_1.shape"
   ]
  },
  {
   "cell_type": "code",
   "execution_count": null,
   "id": "eb7db1a3",
   "metadata": {},
   "outputs": [],
   "source": [
    "y_train_1.shape"
   ]
  },
  {
   "cell_type": "markdown",
   "id": "6b37ef22",
   "metadata": {},
   "source": [
    "# a"
   ]
  },
  {
   "cell_type": "code",
   "execution_count": 109,
   "id": "d16098df",
   "metadata": {},
   "outputs": [],
   "source": [
    "# Tokenize the text into words\n",
    "df['tokens'] = df['word'].apply(word_tokenize)\n",
    "\n",
    "# Create a list of tokenized sentences or words\n",
    "sentences = df['tokens'].tolist()\n",
    "\n",
    "# Train the Word2Vec model\n",
    "model = Word2Vec(sentences, min_count=1, vector_size=500)"
   ]
  },
  {
   "cell_type": "code",
   "execution_count": 110,
   "id": "d38e1d2a",
   "metadata": {},
   "outputs": [],
   "source": [
    "tweets=\"good\""
   ]
  },
  {
   "cell_type": "code",
   "execution_count": 111,
   "id": "cf73e0e7",
   "metadata": {},
   "outputs": [
    {
     "data": {
      "text/plain": [
       "array([ 6.72950177e-04, -1.44031085e-03,  1.33555813e-03,  1.59729563e-03,\n",
       "       -6.63508952e-04, -9.62588820e-04, -1.93844130e-03,  1.27980160e-03,\n",
       "        6.18208840e-04,  1.71284087e-03,  6.32515643e-04, -5.69372030e-04,\n",
       "        7.23612320e-04,  1.83903251e-03,  1.92286680e-03,  1.35469367e-03,\n",
       "       -1.86783110e-03, -1.56928319e-03,  1.50982128e-03, -1.47113425e-03,\n",
       "        6.14450662e-04,  1.52244244e-03, -5.15164924e-04,  1.31097517e-03,\n",
       "       -1.53840159e-03,  1.39409967e-03,  1.18519261e-03,  6.37922145e-04,\n",
       "       -1.83625845e-03,  1.81860686e-03,  1.68847665e-03, -3.47190187e-04,\n",
       "        7.94280029e-04,  1.34283060e-03, -2.58111890e-04,  1.16140163e-03,\n",
       "       -7.03727186e-04, -3.36665573e-04, -2.27411321e-04, -1.05411932e-03,\n",
       "       -1.23344042e-04, -1.62817712e-03,  4.97353205e-04,  1.91090675e-03,\n",
       "        8.39859364e-04,  1.12274836e-03, -1.01371983e-03,  1.00876112e-03,\n",
       "       -1.39978819e-03, -1.01960904e-03,  1.99566130e-03,  1.32923375e-03,\n",
       "       -9.97216091e-04, -1.41089247e-03,  1.55239424e-03,  5.33663959e-04,\n",
       "        1.39407569e-03, -1.33313844e-03, -1.59458068e-04, -1.89230879e-04,\n",
       "        5.70759803e-05,  4.56934591e-04, -1.29912538e-03,  8.23616807e-04,\n",
       "       -5.60245826e-04,  1.75612688e-03, -2.13556603e-04,  1.89742725e-03,\n",
       "       -4.97665969e-05,  1.15245662e-03, -1.55656401e-03, -1.81182462e-03,\n",
       "       -3.84653467e-05, -5.70489501e-04,  2.06266157e-03,  1.08361384e-03,\n",
       "       -1.22970832e-03,  1.44045393e-03,  1.74746878e-04, -1.82665419e-03,\n",
       "        1.13789225e-03, -4.26480605e-04, -2.01640115e-03,  1.84967369e-03,\n",
       "        1.19306310e-03,  1.78887043e-03,  9.12209871e-05,  1.62302644e-03,\n",
       "        1.16074388e-03, -1.25897629e-03,  1.94160652e-03, -6.13433949e-04,\n",
       "       -2.06892774e-03,  1.80838886e-03, -9.50902700e-04,  1.80001871e-03,\n",
       "       -1.40873552e-03,  1.85598980e-03, -1.07314857e-03,  9.14346369e-04,\n",
       "        1.82372564e-03,  8.76315054e-04, -5.39711036e-04, -9.58099205e-04,\n",
       "       -1.97691168e-03,  8.23841721e-04,  1.46265433e-03, -7.86448305e-04,\n",
       "        1.20449485e-03,  1.38638564e-03, -1.95718324e-03,  2.31227066e-04,\n",
       "       -1.43698789e-03, -7.42888078e-04,  1.01693804e-04, -1.36035029e-03,\n",
       "       -6.92443631e-04, -1.67287537e-03, -1.33509003e-03, -1.56864745e-03,\n",
       "        1.97344250e-03,  1.69669674e-03,  1.96903711e-04, -5.55907784e-04,\n",
       "        1.21499063e-03,  2.57813401e-04, -2.04903493e-03, -1.34969305e-03,\n",
       "        6.03255721e-05,  1.66878779e-03,  9.06536705e-04,  1.95880141e-03,\n",
       "        1.30323169e-03, -2.56371823e-06,  1.81319052e-03,  1.98530033e-03,\n",
       "        1.72604853e-03,  1.82097079e-03, -1.88810786e-03,  4.75524401e-04,\n",
       "       -1.42686116e-03, -1.61817030e-03, -1.70951802e-03,  6.46771456e-04,\n",
       "        1.39664859e-04, -1.23980455e-03,  1.16090442e-03,  1.42893661e-03,\n",
       "        9.42276616e-04,  1.72701443e-03, -8.14651605e-04, -1.37995475e-03,\n",
       "        7.62074196e-04, -4.76015121e-04, -1.70512008e-03,  8.16661050e-04,\n",
       "       -6.50352915e-04, -1.12643314e-03,  3.40040569e-04,  1.43881165e-03,\n",
       "        1.28527277e-03,  9.67975284e-05,  1.67673023e-03,  4.86242090e-04,\n",
       "        1.30144972e-03, -8.48506897e-05,  6.91835477e-04,  1.25732913e-03,\n",
       "       -1.81286992e-03,  1.27191644e-03,  3.27719579e-04,  1.42072770e-03,\n",
       "       -2.74936174e-04, -4.62815369e-04, -1.12061447e-03, -6.52833085e-04,\n",
       "       -5.18147426e-04, -1.05619873e-03,  1.38265445e-04,  1.78143522e-03,\n",
       "        9.10590170e-04, -1.57502596e-03, -1.47649215e-03, -6.86530257e-04,\n",
       "        7.86324264e-04, -1.91479735e-03,  1.10652577e-03,  7.06081279e-04,\n",
       "       -5.13506006e-04,  1.86350872e-03,  1.82498316e-03,  9.92048444e-06,\n",
       "        1.00408669e-03, -1.90269493e-03, -1.74524751e-03, -5.74203383e-04,\n",
       "        1.92394154e-03,  6.66796521e-04,  1.14278367e-03, -1.26092602e-03,\n",
       "        7.71647145e-04,  8.07354372e-05, -1.58245573e-04, -6.17940153e-04,\n",
       "        1.04908494e-03, -1.80185807e-03,  1.02024223e-03,  1.11698080e-03,\n",
       "       -6.69328787e-04, -8.99758597e-04, -1.49587775e-03, -1.39463064e-03,\n",
       "       -1.14589231e-03,  5.63613605e-04, -9.67379136e-04, -5.00900496e-04,\n",
       "       -1.88403612e-03, -7.56644644e-04, -2.91218807e-04, -1.73539785e-03,\n",
       "        8.02005001e-04,  2.09282874e-03,  9.35904565e-04,  4.13608883e-04,\n",
       "       -9.53998126e-04, -1.32257861e-04,  6.08108996e-04,  3.49838141e-04,\n",
       "        1.81829336e-03, -2.34136896e-04,  1.41388853e-03,  1.11850002e-03,\n",
       "        5.30016434e-04,  1.46692188e-03, -1.04912033e-03, -8.12054495e-04,\n",
       "        1.38267514e-03,  1.50148512e-03,  8.08398472e-04, -8.52178899e-04,\n",
       "        1.49491080e-03,  5.10012615e-04, -1.30816799e-04,  1.94787083e-03,\n",
       "        7.75980065e-04,  7.47826241e-04,  5.60961453e-05, -1.78375700e-03,\n",
       "       -4.84797143e-04,  5.16712957e-04, -1.12139329e-03,  1.27248361e-03,\n",
       "        1.58637797e-03, -1.80662365e-03, -1.14240451e-03, -1.13959785e-03,\n",
       "       -1.06460240e-04, -1.83966869e-04, -6.98525808e-04, -3.83052538e-04,\n",
       "        5.17127919e-04,  2.02257605e-03, -1.03822234e-03, -1.57516717e-03,\n",
       "        7.79025257e-04, -1.26335758e-03,  1.34107727e-03,  7.31489388e-04,\n",
       "       -1.72671641e-03, -1.59345346e-03, -1.89287995e-03,  4.48366918e-04,\n",
       "        6.85048813e-04,  5.03592251e-04, -1.39279500e-05,  2.46148149e-04,\n",
       "        5.56344632e-04, -4.51746309e-04, -1.76899007e-03,  2.93296162e-05,\n",
       "        7.68142170e-04, -5.00501483e-04, -5.03329502e-04, -6.08099275e-04,\n",
       "        1.68030697e-03, -7.35751353e-04,  1.94439152e-03, -8.81027896e-04,\n",
       "       -1.93499157e-03, -1.28248706e-03, -9.33498202e-04,  4.46653983e-04,\n",
       "        1.02789933e-03,  4.66452067e-04,  1.87132694e-03,  1.92139312e-04,\n",
       "        1.25777326e-03, -1.74292436e-04, -2.64858390e-04,  1.18515803e-03,\n",
       "        3.04549176e-04,  1.72313000e-03, -1.59244379e-03, -1.75271591e-03,\n",
       "       -1.42746765e-04, -4.86532750e-04, -5.33561222e-04, -1.24669418e-06,\n",
       "       -8.75553931e-04, -1.69141358e-03,  1.71310373e-03, -8.68617091e-04,\n",
       "       -4.96915367e-04, -1.24367056e-04, -2.14260042e-04, -1.81691744e-03,\n",
       "       -3.04391142e-04, -4.82836011e-04,  1.74610177e-03, -1.64534629e-03,\n",
       "       -9.20356659e-04, -3.62158404e-04,  6.51137845e-04, -1.30079640e-03,\n",
       "       -1.16738386e-03, -1.64105254e-03,  9.83088277e-04, -1.86187960e-03,\n",
       "       -5.97547973e-04,  8.06677781e-05,  3.43600143e-04, -1.90164533e-03,\n",
       "        1.64615933e-03, -3.21553176e-04,  1.09791661e-04, -1.86104735e-03,\n",
       "       -1.66868360e-03,  8.92543991e-04,  8.51120159e-04,  4.61256830e-04,\n",
       "        1.11388019e-03, -1.33499957e-03, -1.01050231e-04, -6.63281244e-04,\n",
       "       -2.29588302e-04,  9.03576089e-04,  5.98205261e-05, -1.35455781e-03,\n",
       "        6.21957821e-04,  1.28779456e-03, -1.28713949e-03,  6.51613402e-04,\n",
       "       -9.36498982e-04,  1.97494891e-03,  7.74012820e-04,  5.39776927e-04,\n",
       "       -2.43877963e-04, -1.81496539e-03,  1.70603453e-03, -3.37152625e-04,\n",
       "        1.53759751e-03,  8.48127878e-04, -1.61758100e-03, -1.62941549e-04,\n",
       "        5.21498790e-04, -5.31309110e-04,  2.07431358e-03, -1.03676645e-03,\n",
       "       -1.56974653e-03,  8.40130553e-04, -7.25716294e-04, -1.47397025e-03,\n",
       "        4.19338787e-04,  1.01451331e-03, -1.22210640e-03, -9.47868568e-04,\n",
       "       -1.55702000e-03,  4.37652488e-04, -1.04059663e-03,  1.66068552e-03,\n",
       "        1.83278346e-04,  4.00957564e-04, -5.56919142e-04,  1.46228308e-03,\n",
       "       -1.92847030e-04, -1.69007294e-03, -1.51246204e-03,  1.07580279e-04,\n",
       "        1.49013544e-03,  5.59633423e-04, -1.12262077e-03, -1.42142095e-03,\n",
       "       -1.96022191e-03,  7.05121784e-04, -1.77676778e-03,  7.43160839e-04,\n",
       "        4.20084980e-04, -2.20087270e-04, -2.13618856e-03,  1.35715457e-03,\n",
       "       -6.38331330e-05, -1.93515327e-03, -1.55214651e-03,  1.62116846e-03,\n",
       "        3.92733404e-04, -1.81110902e-03, -1.55984249e-04,  1.18758122e-03,\n",
       "       -1.91243936e-03, -1.36099395e-03, -2.11567763e-04, -2.12254352e-03,\n",
       "       -2.52301788e-07,  3.33348435e-04,  1.71531318e-03,  3.16285295e-04,\n",
       "        3.62459628e-04,  9.16917517e-04, -7.74050655e-04,  1.25628884e-03,\n",
       "        2.01324183e-05, -7.00064556e-05, -2.10071541e-03,  2.12071842e-04,\n",
       "        1.26095768e-03,  3.26901791e-04, -1.62702391e-03, -5.94469078e-04,\n",
       "       -1.32488727e-03,  1.11591571e-03, -1.27333391e-03,  1.12112367e-03,\n",
       "       -1.07801380e-03, -1.33752648e-03, -1.55966391e-03,  8.67807947e-04,\n",
       "       -1.66120764e-03, -1.13233330e-03, -1.49162870e-03, -8.21349618e-04,\n",
       "       -8.03035509e-04,  2.28150981e-04,  1.37002231e-03, -3.28036142e-04,\n",
       "       -9.00485786e-04,  3.60917009e-04,  1.27942208e-03, -1.05103257e-03,\n",
       "       -1.13389653e-03,  9.68680019e-04,  1.28055830e-03, -1.50114496e-03,\n",
       "        1.61009782e-03, -2.21936824e-03, -1.45928236e-03, -1.26472849e-03,\n",
       "        3.08631046e-04,  2.13906442e-05,  7.15119706e-04,  1.45235192e-03,\n",
       "        1.01829588e-03, -5.07044489e-04, -1.27718702e-03, -1.55413419e-03,\n",
       "       -2.18578585e-04,  1.86069508e-03, -1.54090591e-03,  5.27863449e-04,\n",
       "        8.04022653e-04, -8.39297893e-04, -1.49998395e-03, -1.11642247e-03,\n",
       "       -9.31835617e-04, -1.61418319e-03,  1.30254251e-03, -1.41549157e-03,\n",
       "       -4.84116172e-04,  9.58729885e-04, -1.47287661e-04, -1.69098657e-03,\n",
       "       -9.78023163e-04,  5.81347325e-04,  4.31962020e-04, -3.07843322e-04,\n",
       "       -6.86631101e-05,  6.00742002e-04,  2.49669713e-04, -3.96680058e-04,\n",
       "        1.26305199e-03, -1.59820041e-03,  1.33871718e-03, -2.07103929e-03,\n",
       "       -3.08368006e-04,  1.42128288e-03, -6.61751488e-04,  1.27692532e-03,\n",
       "        1.10964279e-03, -1.61905447e-03, -8.51525911e-05, -1.00110716e-03],\n",
       "      dtype=float32)"
      ]
     },
     "execution_count": 111,
     "metadata": {},
     "output_type": "execute_result"
    }
   ],
   "source": [
    "model.wv[\"good\"]"
   ]
  },
  {
   "cell_type": "code",
   "execution_count": 112,
   "id": "8e0875d0",
   "metadata": {},
   "outputs": [],
   "source": [
    "df=df[[\"word\",\"class\"]]"
   ]
  },
  {
   "cell_type": "code",
   "execution_count": 113,
   "id": "609c0103",
   "metadata": {},
   "outputs": [
    {
     "name": "stderr",
     "output_type": "stream",
     "text": [
      "C:\\Users\\Dell\\anaconda3.1\\lib\\site-packages\\sklearn\\metrics\\_classification.py:1318: UndefinedMetricWarning: Precision and F-score are ill-defined and being set to 0.0 in labels with no predicted samples. Use `zero_division` parameter to control this behavior.\n",
      "  _warn_prf(average, modifier, msg_start, len(result))\n",
      "C:\\Users\\Dell\\anaconda3.1\\lib\\site-packages\\sklearn\\metrics\\_classification.py:1318: UndefinedMetricWarning: Precision and F-score are ill-defined and being set to 0.0 in labels with no predicted samples. Use `zero_division` parameter to control this behavior.\n",
      "  _warn_prf(average, modifier, msg_start, len(result))\n",
      "C:\\Users\\Dell\\anaconda3.1\\lib\\site-packages\\sklearn\\metrics\\_classification.py:1318: UndefinedMetricWarning: Precision and F-score are ill-defined and being set to 0.0 in labels with no predicted samples. Use `zero_division` parameter to control this behavior.\n",
      "  _warn_prf(average, modifier, msg_start, len(result))\n"
     ]
    },
    {
     "data": {
      "text/plain": [
       "'              precision    recall  f1-score   support\\n\\n  figurative       0.00      0.00      0.00        26\\n       irony       0.24      1.00      0.39        24\\n     regular       0.00      0.00      0.00        18\\n     sarcasm       0.00      0.00      0.00        32\\n\\n    accuracy                           0.24       100\\n   macro avg       0.06      0.25      0.10       100\\nweighted avg       0.06      0.24      0.09       100\\n'"
      ]
     },
     "execution_count": 113,
     "metadata": {},
     "output_type": "execute_result"
    }
   ],
   "source": [
    "import numpy as np\n",
    "from sklearn.model_selection import train_test_split\n",
    "from sklearn.linear_model import LogisticRegression\n",
    "from sklearn.metrics import classification_report\n",
    "from gensim.models import Word2Vec\n",
    "from nltk.tokenize import word_tokenize\n",
    "\n",
    "# Assuming you have a dataframe called 'df' with two columns: 'text' and 'class'\n",
    "\n",
    "# Tokenize the text into words\n",
    "df['tokens'] = df['word'].apply(word_tokenize)\n",
    "\n",
    "# Train or load pre-trained Word2Vec embeddings\n",
    "word2vec_model = Word2Vec(df['tokens'], min_count=2,window=10)\n",
    "\n",
    "# Convert text to word embeddings\n",
    "word_embeddings = []\n",
    "for tokens in df['tokens']:\n",
    "    embedding = np.mean([word2vec_model.wv[word] for word in tokens if word in word2vec_model.wv], axis=0)\n",
    "    word_embeddings.append(embedding)\n",
    "\n",
    "# Create the feature matrix and labels\n",
    "X = np.array(word_embeddings)\n",
    "y = df['class'].values\n",
    "\n",
    "# Split the data into training and testing sets\n",
    "X_train, X_test, y_train, y_test = train_test_split(X, y, test_size=0.2, random_state=42)\n",
    "\n",
    "# Create a classification model\n",
    "model = LogisticRegression()\n",
    "\n",
    "# Train the model\n",
    "model.fit(X_train, y_train)\n",
    "\n",
    "# Make predictions\n",
    "y_pred = model.predict(X_test)\n",
    "\n",
    "# Evaluate the model\n",
    "classification_report(y_test,y_pred)"
   ]
  },
  {
   "cell_type": "code",
   "execution_count": 114,
   "id": "99d2e62e",
   "metadata": {},
   "outputs": [],
   "source": [
    "def model_Evaluate(model):\n",
    "    y_pred =model.predict(X_test)\n",
    "    print(classification_report(y_test, y_pred))\n",
    "    cf_matrix = confusion_matrix(y_test, y_pred)\n",
    "    categories = ['figurative', 'irony', 'regular', 'sarcasm']\n",
    "    \n",
    "    cm_percent = cf_matrix.astype('float') / cf_matrix.sum(axis=0)[:, np.newaxis] * 100\n",
    "    print(pd.DataFrame(cf_matrix))\n",
    "    sns.heatmap(cm_percent, annot=True,cmap = 'Blues',fmt = '.1f',\n",
    "    xticklabels = categories, yticklabels = categories)\n",
    "    plt.xlabel(\"Predicted values\", fontdict = {'size':14}, labelpad = 10)\n",
    "    plt.ylabel(\"Actual values\" , fontdict = {'size':14}, labelpad = 10)\n",
    "    plt.title (\"Confusion Matrix\", fontdict = {'size':18}, pad = 20)"
   ]
  },
  {
   "cell_type": "code",
   "execution_count": 115,
   "id": "ab728c8c",
   "metadata": {},
   "outputs": [
    {
     "name": "stdout",
     "output_type": "stream",
     "text": [
      "              precision    recall  f1-score   support\n",
      "\n",
      "  figurative       0.18      0.12      0.14        26\n",
      "       irony       0.66      0.88      0.75        24\n",
      "     regular       0.83      0.83      0.83        18\n",
      "     sarcasm       0.67      0.69      0.68        32\n",
      "\n",
      "    accuracy                           0.61       100\n",
      "   macro avg       0.58      0.63      0.60       100\n",
      "weighted avg       0.57      0.61      0.58       100\n",
      "\n",
      "   0   1   2   3\n",
      "0  3  10   2  11\n",
      "1  3  21   0   0\n",
      "2  3   0  15   0\n",
      "3  8   1   1  22\n"
     ]
    },
    {
     "data": {
      "image/png": "[encoded data removed]",
      "text/plain": [
       "<Figure size 640x480 with 2 Axes>"
      ]
     },
     "metadata": {},
     "output_type": "display_data"
    }
   ],
   "source": [
    "from sklearn.naive_bayes import BernoulliNB\n",
    "from sklearn.metrics import confusion_matrix, classification_report\n",
    "BNBmodel = BernoulliNB()\n",
    "BNBmodel.fit(X_train, y_train)\n",
    "model_Evaluate(BNBmodel)\n",
    "y_pred1 = BNBmodel.predict(X_test)"
   ]
  },
  {
   "cell_type": "code",
   "execution_count": 123,
   "id": "02173596",
   "metadata": {},
   "outputs": [
    {
     "name": "stdout",
     "output_type": "stream",
     "text": [
      "Accuracy: 0.62\n",
      "              precision    recall  f1-score   support\n",
      "\n",
      "  figurative       0.29      0.27      0.28        26\n",
      "       irony       0.66      0.88      0.75        24\n",
      "     regular       0.84      0.89      0.86        18\n",
      "     sarcasm       0.72      0.56      0.63        32\n",
      "\n",
      "    accuracy                           0.62       100\n",
      "   macro avg       0.63      0.65      0.63       100\n",
      "weighted avg       0.62      0.62      0.61       100\n",
      "\n",
      "    0   1   2   3\n",
      "0   7  11   1   7\n",
      "1   2  21   1   0\n",
      "2   2   0  16   0\n",
      "3  13   0   1  18\n"
     ]
    },
    {
     "data": {
      "image/png": "[encoded data removed]",
      "text/plain": [
       "<Figure size 640x480 with 2 Axes>"
      ]
     },
     "metadata": {},
     "output_type": "display_data"
    }
   ],
   "source": [
    "rf_classifier = RandomForestClassifier(n_estimators=100, random_state=21)\n",
    "\n",
    "# Train the classifier\n",
    "rf_classifier.fit(X_train, y_train)\n",
    "\n",
    "# Make predictions on the test set\n",
    "y_pred = rf_classifier.predict(X_test)\n",
    "\n",
    "# Calculate the accuracy of the classifier\n",
    "accuracy = accuracy_score(y_test, y_pred)\n",
    "print(\"Accuracy:\", accuracy)\n",
    "model_Evaluate(rf_classifier)"
   ]
  },
  {
   "cell_type": "code",
   "execution_count": 120,
   "id": "cc620e67",
   "metadata": {},
   "outputs": [
    {
     "name": "stderr",
     "output_type": "stream",
     "text": [
      "C:\\Users\\Dell\\anaconda3.1\\lib\\site-packages\\sklearn\\metrics\\_classification.py:1318: UndefinedMetricWarning: Precision and F-score are ill-defined and being set to 0.0 in labels with no predicted samples. Use `zero_division` parameter to control this behavior.\n",
      "  _warn_prf(average, modifier, msg_start, len(result))\n",
      "C:\\Users\\Dell\\anaconda3.1\\lib\\site-packages\\sklearn\\metrics\\_classification.py:1318: UndefinedMetricWarning: Precision and F-score are ill-defined and being set to 0.0 in labels with no predicted samples. Use `zero_division` parameter to control this behavior.\n",
      "  _warn_prf(average, modifier, msg_start, len(result))\n",
      "C:\\Users\\Dell\\anaconda3.1\\lib\\site-packages\\sklearn\\metrics\\_classification.py:1318: UndefinedMetricWarning: Precision and F-score are ill-defined and being set to 0.0 in labels with no predicted samples. Use `zero_division` parameter to control this behavior.\n",
      "  _warn_prf(average, modifier, msg_start, len(result))\n",
      "C:\\Users\\Dell\\AppData\\Local\\Temp\\ipykernel_12316\\2831019046.py:7: RuntimeWarning: divide by zero encountered in true_divide\n",
      "  cm_percent = cf_matrix.astype('float') / cf_matrix.sum(axis=0)[:, np.newaxis] * 100\n",
      "C:\\Users\\Dell\\AppData\\Local\\Temp\\ipykernel_12316\\2831019046.py:7: RuntimeWarning: invalid value encountered in true_divide\n",
      "  cm_percent = cf_matrix.astype('float') / cf_matrix.sum(axis=0)[:, np.newaxis] * 100\n"
     ]
    },
    {
     "name": "stdout",
     "output_type": "stream",
     "text": [
      "              precision    recall  f1-score   support\n",
      "\n",
      "  figurative       0.36      0.50      0.42        26\n",
      "       irony       0.38      1.00      0.55        24\n",
      "     regular       0.00      0.00      0.00        18\n",
      "     sarcasm       0.00      0.00      0.00        32\n",
      "\n",
      "    accuracy                           0.37       100\n",
      "   macro avg       0.18      0.38      0.24       100\n",
      "weighted avg       0.18      0.37      0.24       100\n",
      "\n",
      "    0   1  2  3\n",
      "0  13  13  0  0\n",
      "1   0  24  0  0\n",
      "2   0  18  0  0\n",
      "3  23   9  0  0\n"
     ]
    },
    {
     "data": {
      "image/png": "[encoded data removed]",
      "text/plain": [
       "<Figure size 640x480 with 2 Axes>"
      ]
     },
     "metadata": {},
     "output_type": "display_data"
    }
   ],
   "source": [
    "from sklearn.svm import LinearSVC\n",
    "SVCmodel = LinearSVC()\n",
    "SVCmodel.fit(X_train, y_train)\n",
    "model_Evaluate(SVCmodel)\n",
    "y_pred2 = SVCmodel.predict(X_test)"
   ]
  },
  {
   "cell_type": "code",
   "execution_count": 121,
   "id": "1a113bca",
   "metadata": {},
   "outputs": [
    {
     "name": "stdout",
     "output_type": "stream",
     "text": [
      "              precision    recall  f1-score   support\n",
      "\n",
      "  figurative       0.29      0.08      0.12        26\n",
      "       irony       0.26      1.00      0.41        24\n",
      "     regular       0.00      0.00      0.00        18\n",
      "     sarcasm       0.00      0.00      0.00        32\n",
      "\n",
      "    accuracy                           0.26       100\n",
      "   macro avg       0.14      0.27      0.13       100\n",
      "weighted avg       0.14      0.26      0.13       100\n",
      "\n",
      "   0   1  2  3\n",
      "0  2  24  0  0\n",
      "1  0  24  0  0\n",
      "2  0  18  0  0\n",
      "3  5  27  0  0\n"
     ]
    },
    {
     "name": "stderr",
     "output_type": "stream",
     "text": [
      "C:\\Users\\Dell\\anaconda3.1\\lib\\site-packages\\sklearn\\metrics\\_classification.py:1318: UndefinedMetricWarning: Precision and F-score are ill-defined and being set to 0.0 in labels with no predicted samples. Use `zero_division` parameter to control this behavior.\n",
      "  _warn_prf(average, modifier, msg_start, len(result))\n",
      "C:\\Users\\Dell\\anaconda3.1\\lib\\site-packages\\sklearn\\metrics\\_classification.py:1318: UndefinedMetricWarning: Precision and F-score are ill-defined and being set to 0.0 in labels with no predicted samples. Use `zero_division` parameter to control this behavior.\n",
      "  _warn_prf(average, modifier, msg_start, len(result))\n",
      "C:\\Users\\Dell\\anaconda3.1\\lib\\site-packages\\sklearn\\metrics\\_classification.py:1318: UndefinedMetricWarning: Precision and F-score are ill-defined and being set to 0.0 in labels with no predicted samples. Use `zero_division` parameter to control this behavior.\n",
      "  _warn_prf(average, modifier, msg_start, len(result))\n",
      "C:\\Users\\Dell\\AppData\\Local\\Temp\\ipykernel_12316\\2831019046.py:7: RuntimeWarning: divide by zero encountered in true_divide\n",
      "  cm_percent = cf_matrix.astype('float') / cf_matrix.sum(axis=0)[:, np.newaxis] * 100\n",
      "C:\\Users\\Dell\\AppData\\Local\\Temp\\ipykernel_12316\\2831019046.py:7: RuntimeWarning: invalid value encountered in true_divide\n",
      "  cm_percent = cf_matrix.astype('float') / cf_matrix.sum(axis=0)[:, np.newaxis] * 100\n"
     ]
    },
    {
     "data": {
      "image/png": "[encoded data removed]",
      "text/plain": [
       "<Figure size 640x480 with 2 Axes>"
      ]
     },
     "metadata": {},
     "output_type": "display_data"
    }
   ],
   "source": [
    "from sklearn.linear_model import LogisticRegression\n",
    "LRmodel = LogisticRegression(C = 2, max_iter = 1000, n_jobs=-1)\n",
    "LRmodel.fit(X_train, y_train)\n",
    "model_Evaluate(LRmodel)\n",
    "y_pred3 = LRmodel.predict(X_test)"
   ]
  },
  {
   "cell_type": "code",
   "execution_count": 122,
   "id": "51f5ab52",
   "metadata": {},
   "outputs": [
    {
     "name": "stdout",
     "output_type": "stream",
     "text": [
      "Accuracy: 0.43\n",
      "              precision    recall  f1-score   support\n",
      "\n",
      "  figurative       0.26      0.23      0.24        26\n",
      "       irony       0.47      0.58      0.52        24\n",
      "     regular       0.42      0.44      0.43        18\n",
      "     sarcasm       0.54      0.47      0.50        32\n",
      "\n",
      "    accuracy                           0.43       100\n",
      "   macro avg       0.42      0.43      0.42       100\n",
      "weighted avg       0.43      0.43      0.43       100\n",
      "\n",
      "    0   1  2   3\n",
      "0   6   8  3   9\n",
      "1   4  14  5   1\n",
      "2   2   5  8   3\n",
      "3  11   3  3  15\n"
     ]
    },
    {
     "data": {
      "image/png": "[encoded data removed]",
      "text/plain": [
       "<Figure size 640x480 with 2 Axes>"
      ]
     },
     "metadata": {},
     "output_type": "display_data"
    }
   ],
   "source": [
    "#DT\n",
    "from sklearn.tree import DecisionTreeClassifier\n",
    "from sklearn.model_selection import train_test_split\n",
    "from sklearn.metrics import accuracy_score\n",
    "\n",
    "# Initialize and train the Decision Tree classifier\n",
    "dt_classifier = DecisionTreeClassifier()\n",
    "dt_classifier.fit(X_train, y_train)\n",
    "\n",
    "# Make predictions on the test set\n",
    "y_pred = dt_classifier.predict(X_test)\n",
    "\n",
    "# Evaluate the accuracy of the classifier\n",
    "accuracy = accuracy_score(y_test, y_pred)\n",
    "print(\"Accuracy:\", accuracy)\n",
    "model_Evaluate(dt_classifier)"
   ]
  },
  {
   "cell_type": "code",
   "execution_count": 126,
   "id": "8687561b",
   "metadata": {},
   "outputs": [],
   "source": [
    "import pickle\n",
    "pickle_out=open(\"classifier.pkl\",\"wb\")\n",
    "pickle.dump(rf_classifier,pickle_out)\n",
    "pickle_out.close()"
   ]
  },
  {
   "cell_type": "code",
   "execution_count": null,
   "id": "6dd36632",
   "metadata": {},
   "outputs": [],
   "source": []
  },
  {
   "cell_type": "code",
   "execution_count": null,
   "id": "4b72bea6",
   "metadata": {},
   "outputs": [],
   "source": []
  },
  {
   "cell_type": "code",
   "execution_count": null,
   "id": "ce2d46e8",
   "metadata": {},
   "outputs": [],
   "source": []
  },
  {
   "cell_type": "code",
   "execution_count": null,
   "id": "8477f604",
   "metadata": {},
   "outputs": [],
   "source": []
  }
 ],
 "metadata": {
  "kernelspec": {
   "display_name": "Python 3 (ipykernel)",
   "language": "python",
   "name": "python3"
  },
  "language_info": {
   "codemirror_mode": {
    "name": "ipython",
    "version": 3
   },
   "file_extension": ".py",
   "mimetype": "text/x-python",
   "name": "python",
   "nbconvert_exporter": "python",
   "pygments_lexer": "ipython3",
   "version": "3.11.5"
  }
 },
 "nbformat": 4,
 "nbformat_minor": 5
}
